{
 "cells": [
  {
   "cell_type": "code",
   "execution_count": 2,
   "metadata": {},
   "outputs": [
    {
     "name": "stdout",
     "output_type": "stream",
     "text": [
      "(900, 100) <class 'tuple'>\n"
     ]
    }
   ],
   "source": [
    "def add(a,b):\n",
    "    summ=a+b\n",
    "    a=a*b\n",
    "    return a,summ\n",
    "i=10\n",
    "j=90\n",
    "res=add(i,j)\n",
    "print(res,type(res))"
   ]
  },
  {
   "cell_type": "code",
   "execution_count": 4,
   "metadata": {},
   "outputs": [
    {
     "name": "stdout",
     "output_type": "stream",
     "text": [
      "AAA\n",
      "BBB\n",
      "AAA\n",
      "BBB\n",
      "CCC\n"
     ]
    }
   ],
   "source": [
    "def display(*name):\n",
    "    for n in name:\n",
    "        print(n)\n",
    "display(\"AAA\",\"BBB\")\n",
    "display(\"AAA\",\"BBB\",\"CCC\")\n"
   ]
  },
  {
   "cell_type": "code",
   "execution_count": 7,
   "metadata": {},
   "outputs": [
    {
     "name": "stdout",
     "output_type": "stream",
     "text": [
      "49\n"
     ]
    }
   ],
   "source": [
    "#functions treated like object\n",
    "def square(x):\n",
    "    return x*x\n",
    "def applier(q,x):\n",
    "    return q(x)\n",
    "print(applier(square,7))"
   ]
  },
  {
   "cell_type": "code",
   "execution_count": 9,
   "metadata": {},
   "outputs": [
    {
     "name": "stdout",
     "output_type": "stream",
     "text": [
      "Hello,Alice!\n"
     ]
    }
   ],
   "source": [
    "def greet(name):\n",
    "    return f\"Hello,{name}!\"\n",
    "say_hello=greet\n",
    "print(say_hello(\"Alice\"))"
   ]
  },
  {
   "cell_type": "code",
   "execution_count": 13,
   "metadata": {},
   "outputs": [
    {
     "name": "stdout",
     "output_type": "stream",
     "text": [
      "49\n"
     ]
    }
   ],
   "source": [
    "#lambda function\n",
    "n=int(input(\"Enter the number:\"))\n",
    "f=lambda n:n*n\n",
    "print(f(n))"
   ]
  },
  {
   "cell_type": "code",
   "execution_count": 15,
   "metadata": {},
   "outputs": [
    {
     "name": "stdout",
     "output_type": "stream",
     "text": [
      "7\n"
     ]
    }
   ],
   "source": [
    "a=int(input(\"enter the digit:\"))\n",
    "b=int(input(\"Enter second number:\"))\n",
    "f=lambda a,b:a+b\n",
    "print(f(a,b))"
   ]
  },
  {
   "cell_type": "code",
   "execution_count": 17,
   "metadata": {},
   "outputs": [
    {
     "name": "stdout",
     "output_type": "stream",
     "text": [
      "7\n",
      "4\n"
     ]
    }
   ],
   "source": [
    "#deffault value in lambda function\n",
    "f=lambda x,y=1:x+y\n",
    "print(f(3,4))\n",
    "print(f(3))"
   ]
  },
  {
   "cell_type": "code",
   "execution_count": 19,
   "metadata": {},
   "outputs": [
    {
     "name": "stdout",
     "output_type": "stream",
     "text": [
      "(4, 8)\n"
     ]
    }
   ],
   "source": [
    "#returning multiple values\n",
    "f=lambda num:(num**2,num**3)\n",
    "print(f(2))"
   ]
  },
  {
   "cell_type": "code",
   "execution_count": 21,
   "metadata": {},
   "outputs": [
    {
     "name": "stdout",
     "output_type": "stream",
     "text": [
      "[2, 4, 68, 88, 8]\n"
     ]
    }
   ],
   "source": [
    "#filter() used to filterr the given sequence with the help of a function that tests each element in the sequence \n",
    "def find_even(n):\n",
    "    return n%2==0\n",
    "l1=[1,2,3,4,5,68,7,88,8,11]\n",
    "l2=list(filter(find_even,l1))\n",
    "print(l2)"
   ]
  },
  {
   "cell_type": "code",
   "execution_count": 23,
   "metadata": {},
   "outputs": [
    {
     "name": "stdout",
     "output_type": "stream",
     "text": [
      "[2, 4, 68, 88, 8]\n"
     ]
    }
   ],
   "source": [
    "#filter with lambda\n",
    "l1=[1,2,3,4,5,68,7,88,8,11]\n",
    "l2=list(filter(lambda n:n%2==0,l1))\n",
    "print(l2)"
   ]
  },
  {
   "cell_type": "code",
   "execution_count": null,
   "metadata": {},
   "outputs": [
    {
     "name": "stdout",
     "output_type": "stream",
     "text": [
      "[1, 2, 3, 4, 5, 6]\n"
     ]
    }
   ],
   "source": [
    "def non_zero(n):\n",
    "    return n!=0\n",
    "l1=[0,0,0,1,2,3,4,5,6,0,0,0,0]\n",
    "l2=list(filter(non_zero,l1))\n",
    "print(l2)"
   ]
  },
  {
   "cell_type": "code",
   "execution_count": 28,
   "metadata": {},
   "outputs": [
    {
     "name": "stdout",
     "output_type": "stream",
     "text": [
      "[1, 2, 3, 4, 5, 6]\n"
     ]
    }
   ],
   "source": [
    "l1=[0,0,0,1,2,3,4,5,6,0,0,0,0]\n",
    "l2=list(filter(lambda n:n!=0,l1))\n",
    "print(l2)"
   ]
  },
  {
   "cell_type": "code",
   "execution_count": 33,
   "metadata": {},
   "outputs": [
    {
     "name": "stdout",
     "output_type": "stream",
     "text": [
      "[1, 2, 2, 5, 6] [-1, -2, -3, -4]\n"
     ]
    }
   ],
   "source": [
    "l1=[1,2,-1,2,-2,-3,-4,5,6]\n",
    "l2=list(filter(lambda n:n>=0,l1))\n",
    "l3=list(filter(lambda n:n<0,l1))\n",
    "print(l2,l3)"
   ]
  },
  {
   "cell_type": "code",
   "execution_count": 36,
   "metadata": {},
   "outputs": [
    {
     "name": "stdout",
     "output_type": "stream",
     "text": [
      "['121', '131', 'aba']\n"
     ]
    }
   ],
   "source": [
    "l1=['121','131','aba','anv','amv']\n",
    "l2=list(filter(lambda n:n==n[::-1],l1))\n",
    "print(l2)"
   ]
  },
  {
   "cell_type": "code",
   "execution_count": 38,
   "metadata": {},
   "outputs": [
    {
     "name": "stdout",
     "output_type": "stream",
     "text": [
      "['121', '131', 'aba']\n"
     ]
    }
   ],
   "source": [
    "def palindrome(n):\n",
    "    return n==n[::-1]\n",
    "l1=['121','131','aba','anv','amv']\n",
    "l2=[]\n",
    "for i in l1:\n",
    "    if palindrome(i):\n",
    "        l2.append(i)\n",
    "print(l2)"
   ]
  },
  {
   "cell_type": "code",
   "execution_count": 41,
   "metadata": {},
   "outputs": [
    {
     "name": "stdout",
     "output_type": "stream",
     "text": [
      "[2, 4, 6, 8, 10, 12]\n"
     ]
    }
   ],
   "source": [
    "def f1(n):\n",
    "    return n*2\n",
    "l1=[1,2,3,4,5,6]\n",
    "l2=list(map(f1,l1))\n",
    "print(l2)"
   ]
  },
  {
   "cell_type": "code",
   "execution_count": 43,
   "metadata": {},
   "outputs": [
    {
     "name": "stdout",
     "output_type": "stream",
     "text": [
      "[60.0, 70.0, 50.0, 20.0, 40.0]\n"
     ]
    }
   ],
   "source": [
    "def percentage(n):\n",
    "    return (n/1000)*100\n",
    "l1=[600,700,500,200,400]\n",
    "l2=list(map(percentage,l1))\n",
    "print(l2)"
   ]
  },
  {
   "cell_type": "code",
   "execution_count": 46,
   "metadata": {},
   "outputs": [
    {
     "name": "stdout",
     "output_type": "stream",
     "text": [
      "[2, 4, 6, 8, 10, 12]\n"
     ]
    }
   ],
   "source": [
    "\n",
    "l1=[1,2,3,4,5,6]\n",
    "l2=list(map(lambda n:n*2,l1))\n",
    "print(l2)"
   ]
  },
  {
   "cell_type": "code",
   "execution_count": 49,
   "metadata": {},
   "outputs": [
    {
     "name": "stdout",
     "output_type": "stream",
     "text": [
      "101\n"
     ]
    }
   ],
   "source": [
    "#REDUCE()   \n",
    "import functools\n",
    "l1=[1,2,3,4,5,56,6,7,8,9]\n",
    "summ=functools.reduce(lambda a,b:a+b,l1)\n",
    "print(summ)"
   ]
  },
  {
   "cell_type": "code",
   "execution_count": 51,
   "metadata": {},
   "outputs": [
    {
     "name": "stdout",
     "output_type": "stream",
     "text": [
      "Aryan Raj Singh Rathore\n"
     ]
    }
   ],
   "source": [
    "import functools\n",
    "l1=[\"Aryan\",\" Raj\",\" Singh \",\"Rathore\"]\n",
    "summ=functools.reduce(lambda a,b:a+b,l1)\n",
    "print(summ)"
   ]
  },
  {
   "cell_type": "code",
   "execution_count": 54,
   "metadata": {},
   "outputs": [
    {
     "name": "stdout",
     "output_type": "stream",
     "text": [
      "13\n"
     ]
    }
   ],
   "source": [
    "def add(a,b):\n",
    "    return a+b\n",
    "y=add(6,7)\n",
    "print(y)"
   ]
  },
  {
   "cell_type": "code",
   "execution_count": 55,
   "metadata": {},
   "outputs": [
    {
     "name": "stdout",
     "output_type": "stream",
     "text": [
      "3 -1\n"
     ]
    }
   ],
   "source": [
    "def add(a,b):\n",
    "    return a+b\n",
    "def sub(a,b):\n",
    "    return a-b\n",
    "a=add(1,2)\n",
    "b=sub(3,4)\n",
    "print(a,b)"
   ]
  },
  {
   "cell_type": "code",
   "execution_count": 57,
   "metadata": {},
   "outputs": [
    {
     "name": "stdout",
     "output_type": "stream",
     "text": [
      "25\n",
      "15\n"
     ]
    }
   ],
   "source": [
    "x = 15\n",
    "\n",
    "def my_func():\n",
    "\n",
    "    x = 25\n",
    "\n",
    "    return x\n",
    "\n",
    "print(my_func())\n",
    "\n",
    "print(x)"
   ]
  },
  {
   "cell_type": "code",
   "execution_count": 58,
   "metadata": {},
   "outputs": [
    {
     "name": "stdout",
     "output_type": "stream",
     "text": [
      "[('Aryan', 1, 40), ('Raj', 2, 50), ('Singh', 3, 60), ('Rathore', 4, 70)]\n"
     ]
    }
   ],
   "source": [
    "#zip function\n",
    "name=[\"Aryan\",\"Raj\",\"Singh\",\"Rathore\"]\n",
    "roll_no=[1,2,3,4]\n",
    "marks=[40,50,60,70]\n",
    "mapped=list(zip(name,roll_no,marks))\n",
    "print(mapped)"
   ]
  },
  {
   "cell_type": "code",
   "execution_count": null,
   "metadata": {},
   "outputs": [
    {
     "name": "stdout",
     "output_type": "stream",
     "text": [
      "11\n"
     ]
    },
    {
     "ename": "TypeError",
     "evalue": "exceptions must derive from BaseException",
     "output_type": "error",
     "traceback": [
      "\u001b[1;31m---------------------------------------------------------------------------\u001b[0m",
      "\u001b[1;31mTypeError\u001b[0m                                 Traceback (most recent call last)",
      "Cell \u001b[1;32mIn[19], line 7\u001b[0m\n\u001b[0;32m      4\u001b[0m     \u001b[38;5;28;01mraise\u001b[39;00m \u001b[38;5;124m\"\u001b[39m\u001b[38;5;124madnbaj\u001b[39m\u001b[38;5;124m\"\u001b[39m\n\u001b[0;32m      6\u001b[0m \u001b[38;5;28;01mtry\u001b[39;00m:\n\u001b[1;32m----> 7\u001b[0m     \u001b[38;5;28mprint\u001b[39m(\u001b[43madd\u001b[49m\u001b[43m(\u001b[49m\u001b[43m)\u001b[49m)\n\u001b[0;32m      8\u001b[0m \u001b[38;5;28;01mexcept\u001b[39;00m \u001b[38;5;167;01mValueError\u001b[39;00m:\n\u001b[0;32m      9\u001b[0m     \u001b[38;5;28mprint\u001b[39m(\u001b[38;5;124m\"\u001b[39m\u001b[38;5;124mvalu\u001b[39m\u001b[38;5;124m\"\u001b[39m)\n",
      "Cell \u001b[1;32mIn[19], line 4\u001b[0m, in \u001b[0;36madd\u001b[1;34m()\u001b[0m\n\u001b[0;32m      2\u001b[0m a\u001b[38;5;241m=\u001b[39m\u001b[38;5;28mint\u001b[39m(\u001b[38;5;28minput\u001b[39m())\n\u001b[0;32m      3\u001b[0m \u001b[38;5;28mprint\u001b[39m(\u001b[38;5;241m10\u001b[39m\u001b[38;5;241m+\u001b[39ma)\n\u001b[1;32m----> 4\u001b[0m \u001b[38;5;28;01mraise\u001b[39;00m \u001b[38;5;124m\"\u001b[39m\u001b[38;5;124madnbaj\u001b[39m\u001b[38;5;124m\"\u001b[39m\n",
      "\u001b[1;31mTypeError\u001b[0m: exceptions must derive from BaseException"
     ]
    }
   ],
   "source": [
    "def add():\n",
    "    a=int(input())\n",
    "    print(10+a)\n",
    "    raise \"adnbaj\" \n",
    "\n",
    "try:\n",
    "    print(add())\n",
    "except ValueError:\n",
    "    print(\"valu\")\n",
    "\n"
   ]
  },
  {
   "cell_type": "code",
   "execution_count": null,
   "metadata": {},
   "outputs": [],
   "source": []
  }
 ],
 "metadata": {
  "kernelspec": {
   "display_name": "Python 3",
   "language": "python",
   "name": "python3"
  },
  "language_info": {
   "codemirror_mode": {
    "name": "ipython",
    "version": 3
   },
   "file_extension": ".py",
   "mimetype": "text/x-python",
   "name": "python",
   "nbconvert_exporter": "python",
   "pygments_lexer": "ipython3",
   "version": "3.12.8"
  }
 },
 "nbformat": 4,
 "nbformat_minor": 2
}
