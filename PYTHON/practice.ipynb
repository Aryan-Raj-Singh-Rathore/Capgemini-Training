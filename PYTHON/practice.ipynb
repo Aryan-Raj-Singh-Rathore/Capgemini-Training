{
 "cells": [
  {
   "cell_type": "code",
   "execution_count": null,
   "metadata": {},
   "outputs": [],
   "source": [
    "def summ(a,b):\n",
    "    return a+b\n",
    "def sub(a,b):\n",
    "    return abs(a-b)\n",
    "def mul(a,b):\n",
    "    return a*b\n",
    "def div(a,b):\n",
    "    return a/b\n",
    "def powerr(a,b):\n",
    "    return a**b\n",
    "\n",
    "num1=int(input(\"Enter First number:\"))\n",
    "num2=int(input(\"Enter First number:\"))\n",
    "print(\"sum:\",summ(num1,num2),\"Subtraction:\",sub(num1,num2),\"Multiplication:\",mul(num1,num2),\"division\",div(num1,num2),\"Power:\",powerr(num1,num2),sep=\"\\n\")"
   ]
  },
  {
   "cell_type": "code",
   "execution_count": null,
   "metadata": {},
   "outputs": [
    {
     "name": "stdout",
     "output_type": "stream",
     "text": [
      "Hello!!!!!\n"
     ]
    }
   ],
   "source": [
    "class practice:\n",
    "    def hello(self):\n",
    "        print(\"Hello!!!!!\")\n",
    "a1=practice()\n",
    "a1.hello() \n"
   ]
  },
  {
   "cell_type": "code",
   "execution_count": 15,
   "metadata": {},
   "outputs": [
    {
     "name": "stdout",
     "output_type": "stream",
     "text": [
      "Car is black BMW\n"
     ]
    }
   ],
   "source": [
    "def show(car):\n",
    "    print(\"Car is black\",car)\n",
    "show(\"BMW\")"
   ]
  },
  {
   "cell_type": "code",
   "execution_count": 6,
   "metadata": {},
   "outputs": [
    {
     "name": "stdout",
     "output_type": "stream",
     "text": [
      "h 1\n",
      "e 1\n",
      "l 2\n",
      "o 1\n"
     ]
    }
   ],
   "source": [
    "def frequency(s):\n",
    "    dict1={}\n",
    "    for i in s:\n",
    "        if i not in dict1:\n",
    "            dict1[i]=1\n",
    "        else:\n",
    "            dict1[i]+=1\n",
    "    \n",
    "    for i,j in dict1.items():\n",
    "        print(i,j)\n",
    "\n",
    "s=input(\"Enter the string:\")\n",
    "frequency(s)"
   ]
  },
  {
   "cell_type": "code",
   "execution_count": 13,
   "metadata": {},
   "outputs": [
    {
     "name": "stdout",
     "output_type": "stream",
     "text": [
      "NO details find\n"
     ]
    }
   ],
   "source": [
    "def queries():\n",
    "    main={}\n",
    "    dept={}\n",
    "    T=int(input())\n",
    "    for i in range(T):\n",
    "        N,Q=map(int,input().split())\n",
    "        for j in range(N):\n",
    "            id,name,deptt,salary,dateofjoining=input().split()\n",
    "            main[int(id)]=(name,deptt,int(salary),dateofjoining)\n",
    "            if deptt not in dept:\n",
    "                dept[deptt]=(name,int(salary))\n",
    "            else:\n",
    "                dept[deptt]+=(name,int(salary))\n",
    "        for i in range(Q):\n",
    "            k,a=input().split()\n",
    "            if k.lower()=='id':\n",
    "                if a in main: \n",
    "                    print(main[a])\n",
    "                else:\n",
    "                    print(\"NO details find\")\n",
    "            elif k.lower()=='dept':\n",
    "                if a in dept:\n",
    "                    for i in range(1,len(dept[a])):\n",
    "                        print(f\"Name:{dept[a][i-1]}  Salary:{dept[a][i]}\")\n",
    "                        i+=2\n",
    "                else:\n",
    "                    print(\"NO details find\")\n",
    "            else:\n",
    "                print(\"NO details find\")\n",
    "\n",
    "queries()"
   ]
  },
  {
   "cell_type": "code",
   "execution_count": null,
   "metadata": {},
   "outputs": [
    {
     "name": "stdout",
     "output_type": "stream",
     "text": [
      "> \u001b[1;32mc:\\users\\manra\\appdata\\local\\temp\\ipykernel_14260\\1705775851.py\u001b[0m(6)\u001b[0;36mqueries\u001b[1;34m()\u001b[0m\n",
      "\n",
      "<built-in function id>\n",
      "*** NameError: name 'name' is not defined\n",
      "*** NameError: name 'ar' is not defined\n",
      "*** NameError: name 'ar' is not defined\n",
      "*** NameError: name 'ar' is not defined\n",
      "*** NameError: name 'ar' is not defined\n",
      "*** NameError: name 'ar' is not defined\n",
      "*** NameError: name 'ar' is not defined\n",
      "*** NameError: name 'ar' is not defined\n",
      "*** NameError: name 'ar' is not defined\n",
      "*** NameError: name 'ar' is not defined\n",
      "*** NameError: name 'ar' is not defined\n",
      "*** NameError: name 'ar' is not defined\n",
      "*** NameError: name 'ar' is not defined\n",
      "*** NameError: name 'ar' is not defined\n",
      "*** NameError: name 'ar' is not defined\n",
      "*** NameError: name 'ar' is not defined\n",
      "*** NameError: name 'ar' is not defined\n",
      "*** NameError: name 'ar' is not defined\n",
      "*** NameError: name 'ar' is not defined\n",
      "*** NameError: name 'ar' is not defined\n",
      "*** NameError: name 'ar' is not defined\n",
      "*** NameError: name 'ar' is not defined\n",
      "*** NameError: name 'ar' is not defined\n",
      "*** NameError: name 'ar' is not defined\n",
      "*** NameError: name 'ar' is not defined\n",
      "*** NameError: name 'ar' is not defined\n",
      "*** NameError: name 'ar' is not defined\n",
      "*** NameError: name 'ar' is not defined\n",
      "*** NameError: name 'ar' is not defined\n",
      "*** NameError: name 'ar' is not defined\n",
      "*** NameError: name 'ar' is not defined\n",
      "*** NameError: name 'ar' is not defined\n",
      "*** NameError: name 'ar' is not defined\n",
      "*** NameError: name 'ar' is not defined\n",
      "*** NameError: name 'ar' is not defined\n",
      "*** NameError: name 'ar' is not defined\n",
      "*** NameError: name 'ar' is not defined\n",
      "*** NameError: name 'ar' is not defined\n",
      "*** NameError: name 'ar' is not defined\n",
      "*** NameError: name 'ar' is not defined\n",
      "*** NameError: name 'ar' is not defined\n",
      "*** NameError: name 'ar' is not defined\n",
      "*** NameError: name 'ar' is not defined\n",
      "*** NameError: name 'ar' is not defined\n",
      "*** NameError: name 'ar' is not defined\n",
      "*** NameError: name 'ar' is not defined\n",
      "*** NameError: name 'ar' is not defined\n",
      "*** NameError: name 'ar' is not defined\n",
      "*** NameError: name 'ar' is not defined\n",
      "*** NameError: name 'ar' is not defined\n",
      "*** NameError: name 'ar' is not defined\n",
      "*** NameError: name 'ar' is not defined\n",
      "*** NameError: name 'ar' is not defined\n",
      "*** NameError: name 'ar' is not defined\n",
      "*** NameError: name 'ar' is not defined\n",
      "*** NameError: name 'ar' is not defined\n",
      "*** NameError: name 'ar' is not defined\n"
     ]
    }
   ],
   "source": [
    "%debug"
   ]
  },
  {
   "cell_type": "code",
   "execution_count": 11,
   "metadata": {},
   "outputs": [
    {
     "name": "stdout",
     "output_type": "stream",
     "text": [
      "3\n"
     ]
    }
   ],
   "source": [
    "def LongestConsecutiveSequence(l):\n",
    "    l.sort()\n",
    "    longest=0\n",
    "    count=1\n",
    "    for i in range(len(l)-1):\n",
    "        if (l[i]+1)==(l[i+1]):\n",
    "            count+=1\n",
    "        else:\n",
    "            longest=max(longest,count)\n",
    "            count=1\n",
    "    return max(longest,count)\n",
    "l=[1,1,1,1,0,0,0,0,2,3]\n",
    "print(LongestConsecutiveSequence(l))"
   ]
  },
  {
   "cell_type": "code",
   "execution_count": 9,
   "metadata": {},
   "outputs": [
    {
     "name": "stdout",
     "output_type": "stream",
     "text": [
      "[['eat', 'tea', 'ate'], ['tan', 'nat'], ['bat']]\n"
     ]
    }
   ],
   "source": [
    "def anagram(l):\n",
    "    anagram={}\n",
    "    for i in l:\n",
    "        a=\"\".join(sorted(i))\n",
    "        if a not in anagram:\n",
    "            anagram[a]=[i]\n",
    "        else: \n",
    "            anagram[a].append(i)\n",
    "                                                                                                                                                                                                                                                                                                                                                                                            \n",
    "    return list(anagram.values())\n",
    "\n",
    "l=['eat','tea','tan','ate','nat','bat']\n",
    "print(anagram(l))"
   ]
  },
  {
   "cell_type": "code",
   "execution_count": 13,
   "metadata": {},
   "outputs": [
    {
     "name": "stdout",
     "output_type": "stream",
     "text": [
      "['hello', 'world', 'lol']\n",
      " Hello World Lol\n"
     ]
    }
   ],
   "source": [
    "s=\"hello   world  lol\"\n",
    "a=s.split()\n",
    "print(a)\n",
    "str1=\"\"\n",
    "for i in a:\n",
    "    b=i.capitalize()\n",
    "    str1+=\" \"+b\n",
    "print(str1)"
   ]
  },
  {
   "cell_type": "code",
   "execution_count": 5,
   "metadata": {},
   "outputs": [
    {
     "name": "stdout",
     "output_type": "stream",
     "text": [
      "a 4\n",
      "e 1\n",
      "g 1\n",
      "h 2\n",
      "i 1\n",
      "j 1\n",
      "n 2\n",
      "o 1\n",
      "r 4\n",
      "s 1\n",
      "t 1\n",
      "y 1\n"
     ]
    }
   ],
   "source": [
    "def frequency(s):\n",
    "    dic={}\n",
    "    for i in s:\n",
    "        if i not in dic:\n",
    "            dic[i]=1\n",
    "        else:\n",
    "            dic[i]+=1\n",
    "    for i in sorted(dic.keys()):\n",
    "        if i.isalpha():\n",
    "            print(i,dic[i])\n",
    "s=input()\n",
    "frequency(s)"
   ]
  },
  {
   "cell_type": "code",
   "execution_count": 5,
   "metadata": {},
   "outputs": [
    {
     "data": {
      "text/plain": [
       "[['track', '89876']]"
      ]
     },
     "execution_count": 5,
     "metadata": {},
     "output_type": "execute_result"
    }
   ],
   "source": [
    "class TelephoneBook:\n",
    "    def __init__(self, contacts):\n",
    "        # Initialize the contacts list\n",
    "        self.contacts = contacts  \n",
    "\n",
    "    def addContacts(self):\n",
    "        # Write contacts to \"contacts.txt\"\n",
    "        with open(\"contacts.txt\", \"w\") as file:\n",
    "            for name, number in self.contacts:\n",
    "                file.write(f\"{name}:{number}\\n\")  \n",
    "\n",
    "    def getContacts(self, startsWith):\n",
    "        # Read contacts from file and filter based on the starting letter\n",
    "        result = []\n",
    "        try:\n",
    "            with open(\"contacts.txt\", \"r\") as file:\n",
    "                for line in file:\n",
    "                    name, number = line.strip().split(\":\")\n",
    "                    if name.startswith(startsWith):\n",
    "                        result.append([name, number])\n",
    "        except FileNotFoundError:\n",
    "            pass  # If file does not exist, return an empty list\n",
    "        return result\n",
    "    \n",
    "contacts=[['john','787878'],['jerry','90987'],['track','89876']]\n",
    "r=TelephoneBook(contacts)\n",
    "r.addContacts()\n",
    "res=r.getContacts(\"t\")\n",
    "res"
   ]
  },
  {
   "cell_type": "code",
   "execution_count": 6,
   "metadata": {},
   "outputs": [
    {
     "name": "stdout",
     "output_type": "stream",
     "text": [
      "3\n",
      "12345\n"
     ]
    }
   ],
   "source": [
    "class Patient:\n",
    "    def __init__(self, name, pincode, phoneNumber, is_corona):\n",
    "        \"\"\"Initialize Patient attributes\"\"\"\n",
    "        self.name = name\n",
    "        self.pincode = pincode\n",
    "        self.phoneNumber = phoneNumber\n",
    "        self.is_corona = is_corona\n",
    "\n",
    "    # Getter methods\n",
    "    def getName(self):\n",
    "        return self.name\n",
    "\n",
    "    def getPincode(self):\n",
    "        return self.pincode\n",
    "\n",
    "    def getPhoneNumber(self):\n",
    "        return self.phoneNumber\n",
    "\n",
    "    def getCoronaStatus(self):\n",
    "        return self.is_corona\n",
    "\n",
    "\n",
    "class CoronaPatient:\n",
    "    def __init__(self):\n",
    "        \"\"\"Initialize CoronaPatient with an empty patient list\"\"\"\n",
    "        self.patients = []\n",
    "\n",
    "    def addPatient(self, newPatient):\n",
    "        \"\"\"Add a new patient to the list\"\"\"\n",
    "        self.patients.append(newPatient)\n",
    "\n",
    "    def getLessCases(self):\n",
    "        \"\"\"Finds the pincode with the least number of cases\"\"\"\n",
    "        pincode_cases = {}\n",
    "        \n",
    "        for patient in self.patients:\n",
    "            if patient.is_corona:  # Count only positive cases\n",
    "                if patient.pincode in pincode_cases:\n",
    "                    pincode_cases[patient.pincode] += 1\n",
    "                else:\n",
    "                    pincode_cases[patient.pincode] = 1\n",
    "\n",
    "        if not pincode_cases:\n",
    "            return None  # No positive cases found\n",
    "        \n",
    "        # Return the pincode with the least cases\n",
    "        return min(pincode_cases, key=pincode_cases.get)\n",
    "\n",
    "    def countPositiveCase(self):\n",
    "        \"\"\"Returns the total number of corona positive patients\"\"\"\n",
    "        return sum(1 for patient in self.patients if patient.is_corona)\n",
    "\n",
    "\n",
    "# Example Usage:\n",
    "p1 = Patient(\"Alice\", 12345, \"9876543210\", True)\n",
    "p2 = Patient(\"Bob\", 12345, \"9123456789\", False)\n",
    "p3 = Patient(\"Charlie\", 54321, \"9988776655\", True)\n",
    "p4 = Patient(\"Dave\", 54321, \"9871236540\", True)\n",
    "\n",
    "cp = CoronaPatient()\n",
    "cp.addPatient(p1)\n",
    "cp.addPatient(p2)\n",
    "cp.addPatient(p3)\n",
    "cp.addPatient(p4)\n",
    "\n",
    "print(cp.countPositiveCase())  # Output: 3\n",
    "print(cp.getLessCases())  # Output: 12345 (since it has the least positive cases)"
   ]
  }
 ],
 "metadata": {
  "kernelspec": {
   "display_name": "Python 3",
   "language": "python",
   "name": "python3"
  },
  "language_info": {
   "codemirror_mode": {
    "name": "ipython",
    "version": 3
   },
   "file_extension": ".py",
   "mimetype": "text/x-python",
   "name": "python",
   "nbconvert_exporter": "python",
   "pygments_lexer": "ipython3",
   "version": "3.12.8"
  }
 },
 "nbformat": 4,
 "nbformat_minor": 2
}
