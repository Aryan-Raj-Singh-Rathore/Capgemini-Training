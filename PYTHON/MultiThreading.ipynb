{
 "cells": [
  {
   "cell_type": "code",
   "execution_count": null,
   "metadata": {},
   "outputs": [],
   "source": [
    "import threading  #Threading module have its own class \n",
    " "
   ]
  },
  {
   "cell_type": "markdown",
   "metadata": {},
   "source": [
    "#GIL ensures to allow one thread to execute at a time(This is also a limitation)"
   ]
  },
  {
   "cell_type": "code",
   "execution_count": 7,
   "metadata": {},
   "outputs": [
    {
     "name": "stdout",
     "output_type": "stream",
     "text": [
      "Number:1\n",
      "Letter: A\n",
      "Number:2\n",
      "Letter: B\n",
      "Number:3\n",
      "Number:4\n",
      "Letter: C\n",
      "Number:5\n",
      "Letter: D\n",
      "Letter: E\n",
      "Both Threads are completed\n"
     ]
    }
   ],
   "source": [
    "import time\n",
    "\n",
    "def print_number():             #normal function\n",
    "    for i in range(1,6):\n",
    "        print(f\"Number:{i}\")\n",
    "        time.sleep(1)\n",
    "\n",
    "def print_letters():\n",
    "    for char in ['A','B','C','D','E']:       #normal function\n",
    "        print(f\"Letter: {char}\")\n",
    "        time.sleep(1.5)\n",
    "\n",
    "#Creating Threads\n",
    "thread1=threading.Thread(target=print_number)\n",
    "thread2=threading.Thread(target=print_letters)\n",
    "\n",
    "#starting threads\n",
    "thread1.start()\n",
    "thread2.start()\n",
    "\n",
    "#waiting for both threads to complete\n",
    "thread1.join()\n",
    "thread2.join()\n",
    " #we dont have control on the sequence\n",
    "print(\"Both Threads are completed\")"
   ]
  },
  {
   "cell_type": "code",
   "execution_count": 13,
   "metadata": {},
   "outputs": [
    {
     "name": "stdout",
     "output_type": "stream",
     "text": [
      "Thread One is running,iteration 0\n",
      "Thread Two is running,iteration 0\n",
      "Thread Three is running,iteration 0\n",
      "Thread Four is running,iteration 0\n",
      "Thread One is running,iteration 1\n",
      "Thread Two is running,iteration 1\n",
      "Thread Four is running,iteration 1\n",
      "Thread Three is running,iteration 1\n",
      "Thread One is running,iteration 2\n",
      "Thread Two is running,iteration 2\n",
      "Thread Four is running,iteration 2\n",
      "Thread Three is running,iteration 2\n",
      "Both Threads are completed\n"
     ]
    }
   ],
   "source": [
    "#Using Class \n",
    "\n",
    "class mythread(threading.Thread):\n",
    "    def __init__(self,name):\n",
    "        threading.Thread.__init__(self)\n",
    "        self.name=name\n",
    "\n",
    "    def run(self):\n",
    "        for i in range(3):\n",
    "            print(f\"Thread {self.name} is running,iteration {i}\")    \n",
    "            time.sleep(1)\n",
    "\n",
    "#creating multiple threads\n",
    "thread1=mythread(\"One\")\n",
    "thread2=mythread(\"Two\")\n",
    "thread3=mythread(\"Three\")\n",
    "thread4=mythread(\"Four\")\n",
    "\n",
    "thread1.start()\n",
    "thread2.start()\n",
    "thread3.start()\n",
    "thread4.start()\n",
    "\n",
    "#waiting for both threads to complete\n",
    "thread1.join()\n",
    "thread2.join()\n",
    "thread3.join()\n",
    "thread4.join()\n",
    " #we dont have control on the sequence\n",
    "print(\"Both Threads are completed\")\n"
   ]
  },
  {
   "cell_type": "code",
   "execution_count": 21,
   "metadata": {},
   "outputs": [
    {
     "name": "stdout",
     "output_type": "stream",
     "text": [
      "Depositing 50\n",
      "New Balance after deposit : 150\n",
      "Withdrwaing 20\n",
      "New Balance after withdrawl : 130\n",
      "Final balance: 130\n"
     ]
    }
   ],
   "source": [
    "#Bank Account scenerio\n",
    "\n",
    "class BankAccount:\n",
    "    def __init__(self,balance=0):\n",
    "        self.balance=balance\n",
    "        self.lock=threading.Lock()\n",
    "    \n",
    "    def deposi(self,amount):\n",
    "        with self.lock:\n",
    "            print(f\"Depositing {amount}\")\n",
    "            time.sleep(1)\n",
    "            self.balance+=amount\n",
    "            print(f\"New Balance after deposit : {self.balance}\")\n",
    "        \n",
    "    def withdraw(self,amount):\n",
    "        with self.lock:\n",
    "            if self.balance>=amount:\n",
    "                print(f\"Withdrwaing {amount}\")\n",
    "                time.sleep(1)\n",
    "                self.balance-=amount\n",
    "                print(f\"New Balance after withdrawl : {self.balance}\")\n",
    "            else:\n",
    "                print(\"Insufficient Balance\")\n",
    "        \n",
    "\n",
    "def deposit_task(account,amount):\n",
    "    account.deposi(amount)\n",
    "\n",
    "def withdraw_task(account,amount):\n",
    "    account.withdraw(amount)\n",
    "\n",
    "account=BankAccount(100)\n",
    "thread1=threading.Thread(target=deposit_task,args=(account,50))\n",
    "thread2=threading.Thread(target=withdraw_task,args=(account,20))\n",
    "\n",
    "thread1.start()\n",
    "thread2.start()\n",
    "\n",
    "thread1.join()\n",
    "thread2.join()\n",
    "\n",
    "print(f\"Final balance: {account.balance}\")"
   ]
  },
  {
   "cell_type": "code",
   "execution_count": 6,
   "metadata": {},
   "outputs": [
    {
     "name": "stdout",
     "output_type": "stream",
     "text": [
      "Depositing 50\n",
      "New Balance after deposit: 150\n",
      "Withdrawing 20\n",
      "New Balance after withdrawal: 130\n",
      "Error during deposit: Deposit amount must be greater than zero.\n",
      "Final balance: 130\n"
     ]
    }
   ],
   "source": [
    "#MultiThreading With Exception Handling\n",
    "\n",
    "#Bank Account scenerio\n",
    "\n",
    "import threading\n",
    "import time\n",
    "\n",
    "class BankAccount:\n",
    "    def __init__(self, balance=0):\n",
    "        self.balance = balance\n",
    "        self.lock = threading.Lock()\n",
    "    \n",
    "    def deposit(self, amount):\n",
    "        try:\n",
    "            if amount <= 0:\n",
    "                raise ValueError(\"Deposit amount must be greater than zero.\")\n",
    "            else:\n",
    "                with self.lock:\n",
    "                    print(f\"Depositing {amount}\")\n",
    "                    #time.sleep(1)\n",
    "                    self.balance += amount\n",
    "                    print(f\"New Balance after deposit: {self.balance}\")\n",
    "        except Exception as e:\n",
    "            print(f\"Error during deposit: {e}\")\n",
    "            \n",
    "        \n",
    "    def withdraw(self, amount):\n",
    "        try:\n",
    "            if amount <= 0:\n",
    "                raise ValueError(\"Withdrawal amount must be greater than zero.\")\n",
    "            with self.lock:\n",
    "                if self.balance >= amount:\n",
    "                    print(f\"Withdrawing {amount}\")\n",
    "                    #time.sleep(1)\n",
    "                    self.balance -= amount\n",
    "                    print(f\"New Balance after withdrawal: {self.balance}\")\n",
    "                else:\n",
    "                    print(\"Insufficient Balance\")\n",
    "        except Exception as e:\n",
    "            print(f\"Error during withdrawal: {e}\")\n",
    "\n",
    "def deposit_task(account, amount):\n",
    "    account.deposit(amount)\n",
    "\n",
    "def withdraw_task(account, amount):\n",
    "    account.withdraw(amount)\n",
    "\n",
    "account = BankAccount(100)\n",
    "\n",
    "thread1 = threading.Thread(target=deposit_task, args=(account, 50))\n",
    "thread2 = threading.Thread(target=withdraw_task, args=(account, 20))\n",
    "thread3 = threading.Thread(target=deposit_task, args=(account, -10))\n",
    "\n",
    "thread1.start()\n",
    "thread2.start()\n",
    "thread3.start()\n",
    "\n",
    "thread1.join()\n",
    "thread2.join()\n",
    "thread3.join()\n",
    "\n",
    "print(f\"Final balance: {account.balance}\")\n"
   ]
  }
 ],
 "metadata": {
  "kernelspec": {
   "display_name": "Python 3",
   "language": "python",
   "name": "python3"
  },
  "language_info": {
   "codemirror_mode": {
    "name": "ipython",
    "version": 3
   },
   "file_extension": ".py",
   "mimetype": "text/x-python",
   "name": "python",
   "nbconvert_exporter": "python",
   "pygments_lexer": "ipython3",
   "version": "3.12.8"
  }
 },
 "nbformat": 4,
 "nbformat_minor": 2
}
