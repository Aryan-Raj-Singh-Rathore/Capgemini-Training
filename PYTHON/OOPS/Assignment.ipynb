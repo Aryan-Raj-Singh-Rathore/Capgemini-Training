{
 "cells": [
  {
   "cell_type": "code",
   "execution_count": 47,
   "metadata": {},
   "outputs": [
    {
     "name": "stdout",
     "output_type": "stream",
     "text": [
      "{'the': 3, 'quick': 1, 'brown': 1, 'fox': 1, 'jumps': 1, 'over': 1, 'lazy': 1, 'dog.': 1, 'dog': 1, 'barked.': 1}\n"
     ]
    }
   ],
   "source": [
    "#Problem2\n",
    "class WordFrequencyCounter:\n",
    "    def __init__(self,str1):\n",
    "        self.str1=str1\n",
    "    def count_words(self):\n",
    "        output={}\n",
    "        a=self.str1.lower().strip()\n",
    "        a=a.split()\n",
    "        for i in a:\n",
    "            if i not in output:\n",
    "                output[i]=1\n",
    "            else:\n",
    "                output[i]+=1\n",
    "        return output\n",
    "\n",
    "str1=\"The quick brown fox jumps over the lazy dog. The dog barked.\"\n",
    "obj=WordFrequencyCounter(str1)\n",
    "print(obj.count_words())\n",
    "\n"
   ]
  },
  {
   "cell_type": "code",
   "execution_count": 48,
   "metadata": {},
   "outputs": [
    {
     "name": "stdout",
     "output_type": "stream",
     "text": [
      "Done\n"
     ]
    }
   ],
   "source": [
    "#Problem1\n",
    "class FileOps:\n",
    "    def __init__(self,str1):\n",
    "        self.str1=str1\n",
    "    def writeer(self):\n",
    "        with open(\"File12.txt\",\"w\")as f:\n",
    "            f.write(self.str1)\n",
    "    \n",
    "    def vowelconst(self,x):\n",
    "        if (x == 'a' or x == 'e' or\n",
    "            x == 'i' or x == 'o' or x == 'u'): \n",
    "            return True\n",
    "        else: \n",
    "            return False\n",
    "    \n",
    "    def reader(self):\n",
    "        Vcount=0\n",
    "        Ccount=0\n",
    "        try:\n",
    "            with open(\"File12.txt\",\"r\") as f:\n",
    "                a=f.read()\n",
    "        except FileNotFoundError:\n",
    "            return FileNotFoundError\n",
    "        for i in a:\n",
    "            if self.vowelconst(i):\n",
    "                Vcount+=1\n",
    "            else:\n",
    "                Ccount+=1\n",
    "        return (Vcount,Ccount)\n",
    "    def palindrome(self):\n",
    "        try:\n",
    "            with open(\"File12.txt\",\"r\") as f:\n",
    "                a=f.read()\n",
    "        except FileNotFoundError:\n",
    "            return FileNotFoundError\n",
    "        if a==a[::-1]:\n",
    "            return \"Y\"\n",
    "        else:\n",
    "            return \"N\"\n",
    "\n",
    "    def duplicates(self):\n",
    "        try:\n",
    "            with open(\"File12.txt\",\"r\") as f:\n",
    "                a=f.read()\n",
    "        except FileNotFoundError:\n",
    "            return FileNotFoundError\n",
    "        dup=\"\"\n",
    "        for i in a:\n",
    "            if i in dup:\n",
    "                continue\n",
    "            else:\n",
    "                dup+=i\n",
    "        return dup\n",
    "    \n",
    "    def finalfile(self):\n",
    "        self.writeer()\n",
    "        vowel,consonants=self.reader()\n",
    "        pali=self.palindrome()\n",
    "        dup=self.duplicates()\n",
    "        with open(\"Output.txt\",\"w\") as f:\n",
    "            f.write(pali+',')\n",
    "            f.write(str(vowel)+',')\n",
    "            f.write(str(consonants)+',')\n",
    "            f.write(dup)\n",
    "        print(\"Done\")\n",
    "\n",
    "str1=input(\"Enter the string:\")\n",
    "obj=FileOps(str1)\n",
    "obj.finalfile()\n",
    "\n",
    "\n",
    "\n"
   ]
  },
  {
   "cell_type": "code",
   "execution_count": 44,
   "metadata": {},
   "outputs": [
    {
     "ename": "TypeError",
     "evalue": "'int' object is not callable",
     "output_type": "error",
     "traceback": [
      "\u001b[1;31m---------------------------------------------------------------------------\u001b[0m",
      "\u001b[1;31mTypeError\u001b[0m                                 Traceback (most recent call last)",
      "Cell \u001b[1;32mIn[51], line 21\u001b[0m\n\u001b[0;32m     19\u001b[0m s\u001b[38;5;241m=\u001b[39m\u001b[38;5;28mint\u001b[39m(\u001b[38;5;28minput\u001b[39m(\u001b[38;5;124m\"\u001b[39m\u001b[38;5;124mEnter the spikes:\u001b[39m\u001b[38;5;124m\"\u001b[39m))\n\u001b[0;32m     20\u001b[0m obj\u001b[38;5;241m=\u001b[39mbinaryops(n,l,s)\n\u001b[1;32m---> 21\u001b[0m \u001b[38;5;28mprint\u001b[39m(\u001b[43mobj\u001b[49m\u001b[38;5;241;43m.\u001b[39;49m\u001b[43mspikes\u001b[49m\u001b[43m(\u001b[49m\u001b[43m)\u001b[49m)\n",
      "\u001b[1;31mTypeError\u001b[0m: 'int' object is not callable"
     ]
    }
   ],
   "source": [
    "#Problem3\n",
    "class binaryops:\n",
    "    def __init__(self,n,l,s):\n",
    "        self.n=n\n",
    "        self.list=l\n",
    "        self.spikes=s\n",
    "    def spikes(self):\n",
    "        output=[]\n",
    "        for i in self.l:\n",
    "            a= i >> self.spikes\n",
    "            output.apppend(a)\n",
    "        return \" \".join(map(str, output))\n",
    "    \n",
    "n=int(input(\"Enter the number:\"))\n",
    "l=[]\n",
    "for i in range(n):\n",
    "    a=int(input(\"Enter the element:\"))\n",
    "    l.append(a)\n",
    "s=int(input(\"Enter the spikes:\"))\n",
    "obj=binaryops(n,l,s)\n",
    "print(obj.spikes())\n"
   ]
  },
  {
   "cell_type": "code",
   "execution_count": null,
   "metadata": {},
   "outputs": [
    {
     "name": "stdout",
     "output_type": "stream",
     "text": [
      "0 0 0 1 1\n"
     ]
    }
   ],
   "source": [
    "#Problem3\n",
    "class binaryops:\n",
    "    def __init__(self, n, l, s):\n",
    "        self.n = n  \n",
    "        self.list = l  \n",
    "        self.spikes = s  \n",
    "\n",
    "    def spikess(self):\n",
    "        output = []\n",
    "        for i in self.list:\n",
    "            a = i >> self.spikes  \n",
    "            output.append(a)\n",
    "        return \" \".join(map(str, output)) \n",
    "\n",
    "\n",
    "n = int(input(\"Enter the number of elements: \"))\n",
    "l = []\n",
    "for i in range(n):\n",
    "    a = int(input(\"Enter element : \"))\n",
    "    l.append(a)\n",
    "s = int(input(\"Enter the number of spikes: \"))\n",
    "obj = binaryops(n, l, s)\n",
    "print(obj.spikess())\n"
   ]
  }
 ],
 "metadata": {
  "kernelspec": {
   "display_name": "Python 3",
   "language": "python",
   "name": "python3"
  },
  "language_info": {
   "codemirror_mode": {
    "name": "ipython",
    "version": 3
   },
   "file_extension": ".py",
   "mimetype": "text/x-python",
   "name": "python",
   "nbconvert_exporter": "python",
   "pygments_lexer": "ipython3",
   "version": "3.12.8"
  }
 },
 "nbformat": 4,
 "nbformat_minor": 2
}
