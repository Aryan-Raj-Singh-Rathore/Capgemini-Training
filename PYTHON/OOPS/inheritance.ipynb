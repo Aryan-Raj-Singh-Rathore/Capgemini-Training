{
 "cells": [
  {
   "cell_type": "code",
   "execution_count": 2,
   "metadata": {},
   "outputs": [
    {
     "name": "stdout",
     "output_type": "stream",
     "text": [
      "Hello!!!!\n"
     ]
    },
    {
     "data": {
      "text/plain": [
       "<__main__.c at 0x23422ac01d0>"
      ]
     },
     "execution_count": 2,
     "metadata": {},
     "output_type": "execute_result"
    }
   ],
   "source": [
    "class c:\n",
    "    def __init__(self):\n",
    "        print(\"Hello!!!!\")\n",
    "c()"
   ]
  },
  {
   "cell_type": "code",
   "execution_count": 3,
   "metadata": {},
   "outputs": [
    {
     "name": "stdout",
     "output_type": "stream",
     "text": [
      "Creating the instance\n",
      "init is called\n"
     ]
    },
    {
     "data": {
      "text/plain": [
       "<__main__.A at 0x23422ac33e0>"
      ]
     },
     "execution_count": 3,
     "metadata": {},
     "output_type": "execute_result"
    }
   ],
   "source": [
    "#NEW Method:\n",
    "class A(object):\n",
    "    def __new__(cls):\n",
    "        print(\"Creating the instance\")\n",
    "        return object.__new__(cls)\n",
    "    def __init__(self):\n",
    "        print(\"init is called\")\n",
    "    \n",
    "A()"
   ]
  },
  {
   "cell_type": "code",
   "execution_count": null,
   "metadata": {},
   "outputs": [
    {
     "name": "stdout",
     "output_type": "stream",
     "text": [
      "This is private method\n",
      "<__main__.login object at 0x0000023422AC35C0>\n"
     ]
    }
   ],
   "source": [
    "#Private method\n",
    "class login:\n",
    "    def __init__(self,password,username):\n",
    "        self.id=username\n",
    "        self.__password=password\n",
    "        self.__pvt_method()\n",
    "    def __pvt_method(self):\n",
    "        print(\"This is private method\")\n",
    "\n",
    "obj=login(\"ABC\",\"XYZ\")\n",
    "print(obj)"
   ]
  },
  {
   "cell_type": "code",
   "execution_count": 13,
   "metadata": {},
   "outputs": [
    {
     "name": "stdout",
     "output_type": "stream",
     "text": [
      "21\n",
      "100\n"
     ]
    },
    {
     "ename": "AttributeError",
     "evalue": "'BTech' object has no attribute '__name'",
     "output_type": "error",
     "traceback": [
      "\u001b[1;31m---------------------------------------------------------------------------\u001b[0m",
      "\u001b[1;31mAttributeError\u001b[0m                            Traceback (most recent call last)",
      "Cell \u001b[1;32mIn[13], line 12\u001b[0m\n\u001b[0;32m     10\u001b[0m \u001b[38;5;28mprint\u001b[39m(obj\u001b[38;5;241m.\u001b[39m_rollno)  \u001b[38;5;66;03m#Protected , we should not use this to access outside as we are wise men\u001b[39;00m\n\u001b[0;32m     11\u001b[0m \u001b[38;5;28mprint\u001b[39m(obj\u001b[38;5;241m.\u001b[39mmarks)\n\u001b[1;32m---> 12\u001b[0m \u001b[38;5;28mprint\u001b[39m(\u001b[43mobj\u001b[49m\u001b[38;5;241;43m.\u001b[39;49m\u001b[43m__name\u001b[49m)  \u001b[38;5;66;03m#Private member can not be accessed     \u001b[39;00m\n",
      "\u001b[1;31mAttributeError\u001b[0m: 'BTech' object has no attribute '__name'"
     ]
    }
   ],
   "source": [
    "class student:\n",
    "    def __init__(self,name,rollno,marks):\n",
    "        self.__name=name\n",
    "        self._rollno=rollno\n",
    "        self.marks=marks\n",
    "class BTech(student):\n",
    "    pass\n",
    "\n",
    "obj=BTech(\"Aryan Raj Singh Rathore\",21,100)\n",
    "print(obj._rollno)  #Protected , we should not use this to access outside as we are wise men\n",
    "print(obj.marks)\n",
    "print(obj.__name)  #Private member can not be accessed     "
   ]
  },
  {
   "cell_type": "code",
   "execution_count": null,
   "metadata": {},
   "outputs": [
    {
     "name": "stdout",
     "output_type": "stream",
     "text": [
      "BBB 13 400 300\n"
     ]
    }
   ],
   "source": [
    "class student:\n",
    "    def __init__(self,name,rollno,marks):\n",
    "        self.__name=name\n",
    "        self._rollno=rollno\n",
    "        self.marks=marks\n",
    "\n",
    "    def get_name(self):\n",
    "        return self.__name\n",
    "class BTech(student):\n",
    "    def __init__(self, name, rollno, marks,marks_12th):\n",
    "        student.__init__(self,name,rollno,marks)\n",
    "        #or super method without self\n",
    "        #super().__init__(name, rollno, marks)\n",
    "        self.marks12th=marks_12th\n",
    "\n",
    "s1=student(\"AAA\",12,300)\n",
    "\n",
    "b1=BTech(\"BBB\",13,400,300)\n",
    "print(b1.get_name(),b1._rollno,b1.marks,b1.marks12th)\n",
    "    "
   ]
  },
  {
   "cell_type": "code",
   "execution_count": 23,
   "metadata": {},
   "outputs": [
    {
     "name": "stdout",
     "output_type": "stream",
     "text": [
      "Base1 init\n",
      "<__main__.derived object at 0x0000023422A7B830>\n"
     ]
    }
   ],
   "source": [
    "#Multiple Inheritance\n",
    "\n",
    "class base1():\n",
    "    def __init__(self):\n",
    "        print(\"Base1 init\")\n",
    "    \n",
    "class base2():\n",
    "    def __init__(self):\n",
    "        print(\"Base2 init\")\n",
    "\n",
    "class derived(base1,base2):   #MRO(METHOD RESOLUTION ORDER)\n",
    "    pass\n",
    "\n",
    "obj=derived()\n",
    "print(obj)"
   ]
  },
  {
   "cell_type": "code",
   "execution_count": 30,
   "metadata": {},
   "outputs": [
    {
     "name": "stdout",
     "output_type": "stream",
     "text": [
      "Base2 init\n",
      "Base1 init\n",
      "derived\n",
      "base1 base2\n",
      "<__main__.derived object at 0x0000023422D4E000> None\n"
     ]
    }
   ],
   "source": [
    "#Multiple Inheritance\n",
    "\n",
    "class base1():\n",
    "    def __init__(self):\n",
    "        self._str1=\"base1\"\n",
    "        print(\"Base1 init\")\n",
    "    \n",
    "class base2():\n",
    "    def __init__(self):\n",
    "        self._str2=\"base2\"\n",
    "        print(\"Base2 init\")\n",
    "\n",
    "class derived(base1,base2):   #MRO(METHOD RESOLUTION ORDER)\n",
    "    def __init__(self):\n",
    "        base2.__init__(self)\n",
    "        base1.__init__(self)\n",
    "        print(\"derived\")\n",
    "    def printstrs(self):\n",
    "        print(self._str1,self._str2)\n",
    "obj=derived()\n",
    "print(obj,obj.printstrs())"
   ]
  },
  {
   "cell_type": "code",
   "execution_count": 33,
   "metadata": {},
   "outputs": [
    {
     "name": "stdout",
     "output_type": "stream",
     "text": [
      "GrandChild\n",
      "Child\n",
      "Parent\n"
     ]
    }
   ],
   "source": [
    "#Multilevel Inheritance\n",
    "class base():\n",
    "    def __init__(self):\n",
    "        print(\"Parent\")\n",
    "class child(base):\n",
    "    def __init__(self):\n",
    "        print(\"Child\")\n",
    "        super().__init__()\n",
    "class grandchild(child):\n",
    "    def __init__(self):\n",
    "        print(\"GrandChild\")\n",
    "        super().__init__()\n",
    "\n",
    "g=grandchild()\n"
   ]
  }
 ],
 "metadata": {
  "kernelspec": {
   "display_name": "Python 3",
   "language": "python",
   "name": "python3"
  },
  "language_info": {
   "codemirror_mode": {
    "name": "ipython",
    "version": 3
   },
   "file_extension": ".py",
   "mimetype": "text/x-python",
   "name": "python",
   "nbconvert_exporter": "python",
   "pygments_lexer": "ipython3",
   "version": "3.12.8"
  }
 },
 "nbformat": 4,
 "nbformat_minor": 2
}
