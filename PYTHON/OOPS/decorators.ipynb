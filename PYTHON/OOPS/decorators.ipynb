{
 "cells": [
  {
   "cell_type": "code",
   "execution_count": 5,
   "metadata": {},
   "outputs": [
    {
     "name": "stdout",
     "output_type": "stream",
     "text": [
      "*******************\n",
      "HELLO!!!!!!!!\n",
      "*******************\n"
     ]
    }
   ],
   "source": [
    "def my_decorator(func):\n",
    "    def wrapper():\n",
    "        print(\"*******************\")\n",
    "        func()\n",
    "        print(\"*******************\")\n",
    "    return wrapper\n",
    " \n",
    "@my_decorator\n",
    "def say_hello():\n",
    "    print(\"HELLO!!!!!!!!\")\n",
    "\n",
    "\n",
    "say_hello()"
   ]
  },
  {
   "cell_type": "code",
   "execution_count": null,
   "metadata": {},
   "outputs": [
    {
     "name": "stdout",
     "output_type": "stream",
     "text": [
      "25\n"
     ]
    }
   ],
   "source": [
    "def my_decorator(func):\n",
    "    def wrapper(*args,**kwargs):\n",
    "        print(\"Function is called with argument:\",args)\n",
    "        return func(*args,**kwargs)\n",
    "        \n",
    "    return wrapper\n",
    " \n",
    "@my_decorator\n",
    "def add(a,b):\n",
    "    print(a+b)\n",
    "\n",
    "add(12,13)\n"
   ]
  },
  {
   "cell_type": "code",
   "execution_count": 11,
   "metadata": {},
   "outputs": [
    {
     "name": "stdout",
     "output_type": "stream",
     "text": [
      "FUNC1: 2\n",
      "fun1 took 2.00307 seconds\n"
     ]
    }
   ],
   "source": [
    "import time\n",
    "\n",
    "def timer(func):\n",
    "    def wrapper(*args):\n",
    "        start=time.time()\n",
    "        result=func(*args)\n",
    "        end=time.time()\n",
    "        print(f\"{func.__name__} took {end-start:.5f} seconds\")\n",
    "        return result\n",
    "    return wrapper\n",
    "\n",
    "@timer\n",
    "def fun1(a):\n",
    "    time.sleep(2)\n",
    "    print(\"FUNC1:\",a)\n",
    "\n",
    "fun1(2)"
   ]
  }
 ],
 "metadata": {
  "kernelspec": {
   "display_name": "Python 3",
   "language": "python",
   "name": "python3"
  },
  "language_info": {
   "codemirror_mode": {
    "name": "ipython",
    "version": 3
   },
   "file_extension": ".py",
   "mimetype": "text/x-python",
   "name": "python",
   "nbconvert_exporter": "python",
   "pygments_lexer": "ipython3",
   "version": "3.12.8"
  }
 },
 "nbformat": 4,
 "nbformat_minor": 2
}
