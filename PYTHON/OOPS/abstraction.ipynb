{
 "cells": [
  {
   "cell_type": "code",
   "execution_count": 4,
   "metadata": {},
   "outputs": [
    {
     "name": "stdout",
     "output_type": "stream",
     "text": [
      "Engine Ignited\n",
      "Car is starting....\n"
     ]
    }
   ],
   "source": [
    "class car:\n",
    "    def start(self):\n",
    "        self.__ignite_engine()\n",
    "        print(\"Car is starting....\")\n",
    "    def __ignite_engine(self):\n",
    "        print(\"Engine Ignited\")\n",
    "my_car=car()\n",
    "my_car.start()"
   ]
  },
  {
   "cell_type": "code",
   "execution_count": null,
   "metadata": {},
   "outputs": [
    {
     "name": "stdout",
     "output_type": "stream",
     "text": [
      "4\n",
      "4\n",
      "10\n",
      "10\n"
     ]
    }
   ],
   "source": [
    "class cars:\n",
    "    wheels=4 #static variable\n",
    "    def __init__(self,brand):\n",
    "        self.brand=brand #instance variable\n",
    "car1=cars(\"Toyota\")\n",
    "car2=cars(\"Honda\")\n",
    "print(car1.wheels)\n",
    "print(car2.wheels)\n",
    "\n",
    "#changing static variable\n",
    "cars.wheels=10\n",
    "print(car1.wheels)\n",
    "print(car2.wheels)\n"
   ]
  },
  {
   "cell_type": "code",
   "execution_count": 10,
   "metadata": {},
   "outputs": [
    {
     "name": "stdout",
     "output_type": "stream",
     "text": [
      "Bark!\n",
      "Meow\n"
     ]
    }
   ],
   "source": [
    "#Abstract Classes\n",
    "from abc import ABC ,abstractmethod\n",
    "class animal(ABC):    #ABSTRACT CLASS\n",
    "    @abstractmethod\n",
    "    def speak(self):   #ABSTRACT METHOD(MUST BE IMPLEMENTED IN SUBCLASSS)\n",
    "        pass\n",
    "class dog(animal):\n",
    "    def speak(self):\n",
    "        return \"Bark!\"\n",
    "class cat(animal):\n",
    "    def speak(self):\n",
    "        return \"Meow\"\n",
    "#ani=animal()  #give the error as abstract class can not be instantiated\n",
    "dog=dog()\n",
    "print(dog.speak())    \n",
    "obj=cat()\n",
    "print(obj.speak())"
   ]
  },
  {
   "cell_type": "code",
   "execution_count": 14,
   "metadata": {},
   "outputs": [
    {
     "name": "stdout",
     "output_type": "stream",
     "text": [
      "IN init\n",
      "BMW is the vehicle\n",
      "The BMW is starting.......\n",
      "None\n"
     ]
    }
   ],
   "source": [
    "from abc import ABC, abstractmethod\n",
    "import time\n",
    "class vehicle(ABC):\n",
    "    def __init__(self,brand):\n",
    "        print(\"IN init\")\n",
    "        time.sleep(2)\n",
    "        self.brand=brand\n",
    "\n",
    "    @abstractmethod\n",
    "    def start(self):\n",
    "        pass\n",
    "    def displaybrand(self):\n",
    "        print(f\"{self.brand} is the vehicle\")\n",
    "\n",
    "class car(vehicle):\n",
    "    def start(self):\n",
    "        print(f\"The {self.brand} is starting.......\")\n",
    "\n",
    "car=car(\"BMW\")\n",
    "car.displaybrand()\n",
    "print(car.start())"
   ]
  },
  {
   "cell_type": "code",
   "execution_count": 17,
   "metadata": {},
   "outputs": [
    {
     "name": "stdout",
     "output_type": "stream",
     "text": [
      "Map is here............\n",
      "Pay via this........\n",
      "calling user\n"
     ]
    }
   ],
   "source": [
    "from abc import ABC,abstractmethod\n",
    "\n",
    "class google(ABC):\n",
    "    @abstractmethod\n",
    "    def map(self):\n",
    "        pass\n",
    "class payment(ABC):\n",
    "    @abstractmethod\n",
    "    def pay(self):\n",
    "        pass\n",
    "class jio(ABC):\n",
    "    @abstractmethod\n",
    "    def calling(self):\n",
    "        pass\n",
    "\n",
    "class ola(google,payment,jio):\n",
    "    def map():\n",
    "        print(\"Map is here............\")\n",
    "    def pay():\n",
    "        print(\"Pay via this........\")\n",
    "    def calling():\n",
    "        print(\"calling user\")\n",
    "\n",
    "obj=ola\n",
    "obj.map()\n",
    "obj.pay()\n",
    "obj.calling()"
   ]
  }
 ],
 "metadata": {
  "kernelspec": {
   "display_name": "Python 3",
   "language": "python",
   "name": "python3"
  },
  "language_info": {
   "codemirror_mode": {
    "name": "ipython",
    "version": 3
   },
   "file_extension": ".py",
   "mimetype": "text/x-python",
   "name": "python",
   "nbconvert_exporter": "python",
   "pygments_lexer": "ipython3",
   "version": "3.12.8"
  }
 },
 "nbformat": 4,
 "nbformat_minor": 2
}
