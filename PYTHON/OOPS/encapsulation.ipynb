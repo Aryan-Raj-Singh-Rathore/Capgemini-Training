{
 "cells": [
  {
   "cell_type": "code",
   "execution_count": 1,
   "metadata": {},
   "outputs": [
    {
     "name": "stdout",
     "output_type": "stream",
     "text": [
      "10000\n",
      "200000\n",
      "Invalid Amount\n",
      "200000\n"
     ]
    }
   ],
   "source": [
    "class BankAccount:\n",
    "    def __init__(self,balance):\n",
    "        self.__balance=balance #private variable\n",
    "    def get_balance(self): #getter method\n",
    "        return self.__balance\n",
    "    def set_balance(self,amount): #setter method\n",
    "        if amount>=0:\n",
    "            self.__balance=amount\n",
    "        else:\n",
    "            print(\"Invalid Amount\")  #restricting invalid inputs\n",
    "\n",
    "account=BankAccount(10000)\n",
    "print(account.get_balance())\n",
    "account.set_balance(200000)\n",
    "print(account.get_balance())\n",
    "account.set_balance(-500)\n",
    "print(account.get_balance())\n",
    "\n",
    "\n",
    "\n",
    "\n",
    "\n"
   ]
  },
  {
   "cell_type": "code",
   "execution_count": 18,
   "metadata": {},
   "outputs": [
    {
     "name": "stdout",
     "output_type": "stream",
     "text": [
      "Aryan raj singh rathore\n",
      "Invalid Age\n",
      "Aryan raj singh rathore\n",
      "19\n"
     ]
    }
   ],
   "source": [
    "class one:\n",
    "    def __init__(self,name,age1):\n",
    "        self.name=name\n",
    "        if age1>=18:\n",
    "            self.__age=age1\n",
    "        else:\n",
    "            self.__age=\"Invalid Age\"\n",
    "    def set_age(self,age):\n",
    "        if age >= 18:\n",
    "            self.__age=age\n",
    "        else:\n",
    "            self.__age=\"You are Not eligible\"\n",
    "    def get_age(self):\n",
    "        return self.__age\n",
    "    def display(self):\n",
    "        print(self.name)\n",
    "        print(self.__age)\n",
    "ref1=one(\"Aryan raj singh rathore\",2)\n",
    "ref1.display()\n",
    "ref1.set_age(19)\n",
    "ref1.display()"
   ]
  }
 ],
 "metadata": {
  "kernelspec": {
   "display_name": "Python 3",
   "language": "python",
   "name": "python3"
  },
  "language_info": {
   "codemirror_mode": {
    "name": "ipython",
    "version": 3
   },
   "file_extension": ".py",
   "mimetype": "text/x-python",
   "name": "python",
   "nbconvert_exporter": "python",
   "pygments_lexer": "ipython3",
   "version": "3.12.8"
  }
 },
 "nbformat": 4,
 "nbformat_minor": 2
}
