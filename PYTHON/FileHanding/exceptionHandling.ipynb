{
 "cells": [
  {
   "cell_type": "code",
   "execution_count": 2,
   "metadata": {},
   "outputs": [
    {
     "name": "stdout",
     "output_type": "stream",
     "text": [
      "Can not divide by zero\n"
     ]
    }
   ],
   "source": [
    "n=10\n",
    "try:\n",
    "    res=n/0\n",
    "except ZeroDivisionError:\n",
    "    print(\"Can not divide by zero\")"
   ]
  },
  {
   "cell_type": "code",
   "execution_count": 3,
   "metadata": {},
   "outputs": [
    {
     "name": "stdout",
     "output_type": "stream",
     "text": [
      "Oops! That was not a valid number\n",
      "x is: 20\n"
     ]
    }
   ],
   "source": [
    "while True:\n",
    "    try:\n",
    "        x=int(input(\"Please enter a number:\"))\n",
    "        print(\"x is:\",x)\n",
    "        break\n",
    "    except ValueError:\n",
    "        print(\"Oops! That was not a valid number\")"
   ]
  },
  {
   "cell_type": "code",
   "execution_count": 5,
   "metadata": {},
   "outputs": [
    {
     "name": "stdout",
     "output_type": "stream",
     "text": [
      "Enter a valid number\n",
      "Execution Completed\n"
     ]
    }
   ],
   "source": [
    "try:\n",
    "    n=int(input(\"Enter a number:\"))\n",
    "    res=100/n\n",
    "except ZeroDivisionError:\n",
    "    print(\"You can not divide by zero\")\n",
    "except ValueError:\n",
    "    print(\"Enter a valid number\")\n",
    "else:\n",
    "    print(\"Result:\",res)\n",
    "finally:\n",
    "    print(\"Execution Completed\")"
   ]
  },
  {
   "cell_type": "code",
   "execution_count": 7,
   "metadata": {},
   "outputs": [
    {
     "name": "stdout",
     "output_type": "stream",
     "text": [
      "Something went wrong\n"
     ]
    }
   ],
   "source": [
    "#default try except\n",
    "try:\n",
    "    res=\"100\"/20\n",
    "except ArithmeticError:\n",
    "    print(\"Arithmetic Problem\")\n",
    "except:\n",
    "    print(\"Something went wrong\")"
   ]
  },
  {
   "cell_type": "code",
   "execution_count": 8,
   "metadata": {},
   "outputs": [
    {
     "name": "stdout",
     "output_type": "stream",
     "text": [
      "Age can not be negative\n"
     ]
    }
   ],
   "source": [
    "def set(age):\n",
    "    if age<0:\n",
    "        raise ValueError(\"Age can not be negative\")\n",
    "    print(f\"Age set to {age}\")\n",
    "\n",
    "try:\n",
    "    set(-5)\n",
    "except ValueError as e:\n",
    "    print(e)"
   ]
  },
  {
   "cell_type": "code",
   "execution_count": null,
   "metadata": {},
   "outputs": [],
   "source": [
    "\n",
    "f=open(\"file3.txt\",\"x\")"
   ]
  },
  {
   "cell_type": "code",
   "execution_count": 1,
   "metadata": {},
   "outputs": [
    {
     "name": "stdout",
     "output_type": "stream",
     "text": [
      "File is not there\n"
     ]
    }
   ],
   "source": [
    "try:\n",
    "    f=open(\"File\",\"r\")\n",
    "except FileNotFoundError:\n",
    "    print(\"File is not there\")\n"
   ]
  },
  {
   "cell_type": "code",
   "execution_count": 4,
   "metadata": {},
   "outputs": [
    {
     "name": "stdout",
     "output_type": "stream",
     "text": [
      "You give the correct input\n"
     ]
    }
   ],
   "source": [
    "try:\n",
    "    a=int(input(\"enter an integer value:\"))\n",
    "except ValueError:\n",
    "    print(\"Please give correct input\")\n",
    "else:\n",
    "    print(\"You give the correct input\")"
   ]
  },
  {
   "cell_type": "code",
   "execution_count": 9,
   "metadata": {},
   "outputs": [
    {
     "name": "stdout",
     "output_type": "stream",
     "text": [
      "Not possible\n"
     ]
    }
   ],
   "source": [
    "try:\n",
    "    a=input(\"Enter the number\")\n",
    "    res=a+10\n",
    "except TypeError:\n",
    "    print(\"Not possible\")\n",
    "else:\n",
    "    print(res)"
   ]
  },
  {
   "cell_type": "code",
   "execution_count": 18,
   "metadata": {},
   "outputs": [
    {
     "ename": "Exception",
     "evalue": "Negative answer not allowed",
     "output_type": "error",
     "traceback": [
      "\u001b[1;31m---------------------------------------------------------------------------\u001b[0m",
      "\u001b[1;31mException\u001b[0m                                 Traceback (most recent call last)",
      "Cell \u001b[1;32mIn[18], line 6\u001b[0m\n\u001b[0;32m      4\u001b[0m res\u001b[38;5;241m=\u001b[39ma\u001b[38;5;241m-\u001b[39mb\n\u001b[0;32m      5\u001b[0m \u001b[38;5;28;01mif\u001b[39;00m res\u001b[38;5;241m<\u001b[39m\u001b[38;5;241m0\u001b[39m:\n\u001b[1;32m----> 6\u001b[0m     \u001b[38;5;28;01mraise\u001b[39;00m \u001b[38;5;167;01mException\u001b[39;00m(\u001b[38;5;124m\"\u001b[39m\u001b[38;5;124mNegative answer not allowed\u001b[39m\u001b[38;5;124m\"\u001b[39m)\n",
      "\u001b[1;31mException\u001b[0m: Negative answer not allowed"
     ]
    }
   ],
   "source": [
    "#RAISING Exception\n",
    "a=int(input(\"Enter the number:\"))\n",
    "b=int(input(\"Enter the number:\"))\n",
    "res=a-b\n",
    "if res<0:\n",
    "    raise Exception(\"Negative answer not allowed\")"
   ]
  },
  {
   "cell_type": "code",
   "execution_count": 24,
   "metadata": {},
   "outputs": [
    {
     "name": "stdout",
     "output_type": "stream",
     "text": [
      "Outer: Outer Exception\n"
     ]
    }
   ],
   "source": [
    "try:\n",
    "    raise Exception(\"Outer Exception\")\n",
    "    try:\n",
    "        raise Exception(\"Inner Exception\")\n",
    "    except Exception as e:\n",
    "        print(\"Inner:\", e)\n",
    "except Exception as e:\n",
    "    print(\"Outer:\", e)"
   ]
  },
  {
   "cell_type": "code",
   "execution_count": 44,
   "metadata": {},
   "outputs": [
    {
     "name": "stdout",
     "output_type": "stream",
     "text": [
      "B\n"
     ]
    }
   ],
   "source": [
    "class A:\n",
    "    def show(self):\n",
    "        print(\"A\")\n",
    "\n",
    "class B(A):\n",
    "    def show(self):\n",
    "        print(\"B\")\n",
    "\n",
    "obj = B()\n",
    "obj.show()\n"
   ]
  },
  {
   "cell_type": "code",
   "execution_count": 1,
   "metadata": {},
   "outputs": [
    {
     "name": "stdout",
     "output_type": "stream",
     "text": [
      "Age can not be negative\n"
     ]
    }
   ],
   "source": [
    "def set(age):\n",
    "    if age<0:\n",
    "        raise ValueError(\"Age can not be negative\")\n",
    "    print(f\"Age is {age}\")\n",
    "\n",
    "try:\n",
    "    set(-5)\n",
    "except ValueError as e:\n",
    "    print(e)"
   ]
  }
 ],
 "metadata": {
  "kernelspec": {
   "display_name": "Python 3",
   "language": "python",
   "name": "python3"
  },
  "language_info": {
   "codemirror_mode": {
    "name": "ipython",
    "version": 3
   },
   "file_extension": ".py",
   "mimetype": "text/x-python",
   "name": "python",
   "nbconvert_exporter": "python",
   "pygments_lexer": "ipython3",
   "version": "3.12.8"
  }
 },
 "nbformat": 4,
 "nbformat_minor": 2
}
