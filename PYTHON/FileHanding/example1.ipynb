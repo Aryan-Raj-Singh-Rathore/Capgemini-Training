{
 "cells": [
  {
   "cell_type": "code",
   "execution_count": 46,
   "metadata": {},
   "outputs": [
    {
     "name": "stdout",
     "output_type": "stream",
     "text": [
      "File Opend Successfully\n"
     ]
    }
   ],
   "source": [
    "fileptr=open(\"file.txt\",\"r\")\n",
    "if fileptr:\n",
    "    print(\"File Opend Successfully\")\n",
    "else:\n",
    "    print(\"Does not exist\")"
   ]
  },
  {
   "cell_type": "code",
   "execution_count": 47,
   "metadata": {},
   "outputs": [
    {
     "name": "stdout",
     "output_type": "stream",
     "text": [
      "\n"
     ]
    }
   ],
   "source": [
    "fileptr=open(\"file.txt\",\"r\")\n",
    "contents=fileptr.read(10)\n",
    "print(contents)\n",
    "#print(fileptr.tell())\n",
    "#fileptr.seek(0)\n",
    "#print(fileptr.read(10))\n",
    "#print(fileptr.read(10))"
   ]
  },
  {
   "cell_type": "code",
   "execution_count": 48,
   "metadata": {},
   "outputs": [],
   "source": [
    "fileptr.seek(0)\n",
    "if fileptr:\n",
    "    for i in fileptr:\n",
    "        #print(i)\n",
    "        print(i,end=\"\")"
   ]
  },
  {
   "cell_type": "code",
   "execution_count": 49,
   "metadata": {},
   "outputs": [],
   "source": [
    "fileptr.close()"
   ]
  },
  {
   "cell_type": "code",
   "execution_count": 55,
   "metadata": {},
   "outputs": [],
   "source": [
    "file1=open(\"file.txt\",\"w\")\n"
   ]
  },
  {
   "cell_type": "code",
   "execution_count": null,
   "metadata": {},
   "outputs": [
    {
     "data": {
      "text/plain": [
       "5"
      ]
     },
     "execution_count": 56,
     "metadata": {},
     "output_type": "execute_result"
    }
   ],
   "source": [
    "name=input(\"Enter Your name:\")\n",
    "file1.write(name)\n",
    "age=input(\"Enter Your age:\")\n",
    "file1.write(age)\n",
    "clg=input(\"Enter Your College :\")\n",
    "file1.write(clg)"
   ]
  },
  {
   "cell_type": "code",
   "execution_count": 59,
   "metadata": {},
   "outputs": [
    {
     "ename": "ValueError",
     "evalue": "I/O operation on closed file.",
     "output_type": "error",
     "traceback": [
      "\u001b[1;31m---------------------------------------------------------------------------\u001b[0m",
      "\u001b[1;31mValueError\u001b[0m                                Traceback (most recent call last)",
      "Cell \u001b[1;32mIn[59], line 3\u001b[0m\n\u001b[0;32m      1\u001b[0m \u001b[38;5;28;01mfor\u001b[39;00m i \u001b[38;5;129;01min\u001b[39;00m \u001b[38;5;28mrange\u001b[39m(\u001b[38;5;241m0\u001b[39m,\u001b[38;5;241m2\u001b[39m):\n\u001b[0;32m      2\u001b[0m     data\u001b[38;5;241m=\u001b[39m\u001b[38;5;28minput\u001b[39m(\u001b[38;5;124m\"\u001b[39m\u001b[38;5;124mEnter Data:\u001b[39m\u001b[38;5;124m\"\u001b[39m)\n\u001b[1;32m----> 3\u001b[0m     \u001b[43mfile1\u001b[49m\u001b[38;5;241;43m.\u001b[39;49m\u001b[43mwrite\u001b[49m\u001b[43m(\u001b[49m\u001b[43mdata\u001b[49m\u001b[43m \u001b[49m\u001b[38;5;241;43m+\u001b[39;49m\u001b[43m \u001b[49m\u001b[38;5;124;43m\"\u001b[39;49m\u001b[38;5;130;43;01m\\n\u001b[39;49;00m\u001b[38;5;124;43m\"\u001b[39;49m\u001b[43m)\u001b[49m\n\u001b[0;32m      5\u001b[0m L\u001b[38;5;241m=\u001b[39m[\u001b[38;5;241m1\u001b[39m,\u001b[38;5;241m2\u001b[39m,\u001b[38;5;241m3\u001b[39m]\n\u001b[0;32m      6\u001b[0m file1\u001b[38;5;241m.\u001b[39mwrite(\u001b[38;5;28mstr\u001b[39m(L))\n",
      "\u001b[1;31mValueError\u001b[0m: I/O operation on closed file."
     ]
    }
   ],
   "source": [
    "for i in range(0,2):\n",
    "    data=input(\"Enter Data:\")\n",
    "    file1.write(data + \"\\n\")\n",
    "\n",
    "L=[1,2,3]\n",
    "file1.write(str(L))\n",
    "file1.close()"
   ]
  },
  {
   "cell_type": "code",
   "execution_count": 61,
   "metadata": {},
   "outputs": [],
   "source": [
    "x,y,z=43,44,55\n",
    "s='spam'\n",
    "d={'a':1,\"b\":2,\"c\":3}\n",
    "l=[1,2,3]\n",
    "t=(10,20,30)\n",
    "f=open(\"file.txt\",\"w\")\n",
    "f.write(s+\"\\n\")\n",
    "f.write('%s,%s,%s\\n'%(x,y,z))\n",
    "f.write(str(l)+'$'+str(d)+'\\n'+str(t))\n",
    "f.close()"
   ]
  },
  {
   "cell_type": "code",
   "execution_count": 66,
   "metadata": {},
   "outputs": [
    {
     "name": "stdout",
     "output_type": "stream",
     "text": [
      "firstline\n",
      " <class 'str'>Second line\n",
      " <class 'str'>Third line\n",
      " <class 'str'>"
     ]
    }
   ],
   "source": [
    "#WITH CLAUSE:\n",
    "with open('file2.txt','w') as f:\n",
    "    f.write('firstline\\n')\n",
    "    f.write('Second line\\n')\n",
    "    f.write('Third line\\n')\n",
    "with open('file2.txt','r') as f:\n",
    "    content=f.readlines()\n",
    "for i in content:\n",
    "    print(i,type(i),end=\"\")"
   ]
  },
  {
   "cell_type": "code",
   "execution_count": 78,
   "metadata": {},
   "outputs": [
    {
     "name": "stdout",
     "output_type": "stream",
     "text": [
      "Aryan Raj Singh Rathore\n",
      "Meenu Verma\n",
      "Atishay Jain\n",
      "Aditya Singhal"
     ]
    }
   ],
   "source": [
    "L=[\"Aryan Raj Singh Rathore\\n\",\"Meenu Verma\\n\",\"Atishay Jain\\n\",\"Aditya Singhal\"]\n",
    "with open('file3.txt','w') as f:\n",
    "    for i in L:\n",
    "        f.write(i)\n",
    "with open('file3.txt','r') as f:\n",
    "    content=f.read()\n",
    "    for i in content:\n",
    "        print(i,end='')"
   ]
  },
  {
   "cell_type": "code",
   "execution_count": 79,
   "metadata": {},
   "outputs": [
    {
     "name": "stdout",
     "output_type": "stream",
     "text": [
      "Aryan Raj Singh Rathore\n",
      "Meenu Verma\n",
      "Atishay Jain\n",
      "Aditya Singhal"
     ]
    }
   ],
   "source": [
    "L=[\"Aryan Raj Singh Rathore\\n\",\"Meenu Verma\\n\",\"Atishay Jain\\n\",\"Aditya Singhal\"]\n",
    "with open('file3.txt','w') as f:\n",
    "    f.writelines(L)\n",
    "\n",
    "with open('file3.txt','r') as f:\n",
    "    content=f.read()\n",
    "    for i in content:\n",
    "        print(i,end='')"
   ]
  }
 ],
 "metadata": {
  "kernelspec": {
   "display_name": "Python 3",
   "language": "python",
   "name": "python3"
  },
  "language_info": {
   "codemirror_mode": {
    "name": "ipython",
    "version": 3
   },
   "file_extension": ".py",
   "mimetype": "text/x-python",
   "name": "python",
   "nbconvert_exporter": "python",
   "pygments_lexer": "ipython3",
   "version": "3.12.8"
  }
 },
 "nbformat": 4,
 "nbformat_minor": 2
}
