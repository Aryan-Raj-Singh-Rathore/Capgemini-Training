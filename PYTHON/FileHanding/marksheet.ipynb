{
 "cells": [
  {
   "cell_type": "code",
   "execution_count": 9,
   "metadata": {},
   "outputs": [
    {
     "name": "stdout",
     "output_type": "stream",
     "text": [
      "Grade 50: Samriddh Agarwal \n",
      "Grade 49: Bhoomi Gupta         , Ritik Sharma \n",
      "Grade 47: Mohit Singh , Priyanshu Gupta , Abhimanyu  \n"
     ]
    }
   ],
   "source": [
    "import os\n",
    "\n",
    "def get_top_students(filename):\n",
    "    student_grades = {} \n",
    "    with open(filename, 'r') as file:\n",
    "        for line in file:\n",
    "            line = line.strip()\n",
    "            if not line:  # Skip empty lines\n",
    "                continue\n",
    "            try:\n",
    "                name, grade = line.split(',')\n",
    "                grade = int(grade)  # Convert grade to an integer\n",
    "            except ValueError:\n",
    "                print(f\"Skipping line with invalid grade format: {line}\")\n",
    "                continue\n",
    "\n",
    "            if grade in student_grades:\n",
    "                student_grades[grade].append(name)\n",
    "            else:\n",
    "                student_grades[grade] = [name]\n",
    "    \n",
    "    unique_grades = sorted(set(student_grades.keys()), reverse=True)\n",
    "    top_three_grades = unique_grades[:3]\n",
    "    \n",
    "    top_students = {grade: student_grades[grade] for grade in top_three_grades}\n",
    "    \n",
    "    for grade, students in top_students.items():\n",
    "        print(f\"Grade {grade}: {', '.join(students)}\")\n",
    "\n",
    "filename = \"marksheet123.txt\"  # Make sure this file exists and is correctly formatted\n",
    "get_top_students(filename)"
   ]
  }
 ],
 "metadata": {
  "kernelspec": {
   "display_name": "Python 3",
   "language": "python",
   "name": "python3"
  },
  "language_info": {
   "codemirror_mode": {
    "name": "ipython",
    "version": 3
   },
   "file_extension": ".py",
   "mimetype": "text/x-python",
   "name": "python",
   "nbconvert_exporter": "python",
   "pygments_lexer": "ipython3",
   "version": "3.12.8"
  }
 },
 "nbformat": 4,
 "nbformat_minor": 2
}
