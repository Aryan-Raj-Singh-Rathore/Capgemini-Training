{
 "cells": [
  {
   "cell_type": "code",
   "execution_count": null,
   "metadata": {},
   "outputs": [
    {
     "name": "stdout",
     "output_type": "stream",
     "text": [
      "1. Add an event.\n",
      " 2. Remove an event.\n",
      " 3. Display all events in chronological order.\n",
      " 4. Save events to a file using the pickle module.\n",
      " 5. Load events from a file using the pickle module.\n",
      " 6)Exit\n"
     ]
    },
    {
     "name": "stdout",
     "output_type": "stream",
     "text": [
      "Welcome to event organiser\n",
      "Saving Your Data\n",
      "Welcome to event organiser\n",
      "Saving Your Data\n",
      "xyz 2018-12-12 12:12:00\n",
      "abc 2020-12-12 12:12:00\n",
      "None\n"
     ]
    }
   ],
   "source": [
    "#Problem 1:\n",
    "import datetime\n",
    "import pickle\n",
    "class event:\n",
    "    dict1={}\n",
    "    def __init__(self):\n",
    "        pass\n",
    "    def addevent(self):\n",
    "        print(\"Welcome to event organiser\")\n",
    "        ev=input(\"Enter the name of event:\")\n",
    "        data=input(\"Enter the date and time of the event in format (yyyy,mm,dd,hour,min):\")\n",
    "        year,month,date,hour,min=map(int,data.split(\",\"))\n",
    "        waqt=datetime.datetime(year,month,date,hour,min)\n",
    "        self.dict1[ev]=waqt\n",
    "        return self.dict1\n",
    "    def removeevent(self):\n",
    "        rem=input(\"Enter the name of event to be removed:\")\n",
    "        if rem not in self.dict1:\n",
    "            return False\n",
    "        del self.dict1[rem]\n",
    "        print(\"Event successfully removed\")\n",
    "    def display(self):\n",
    "        a=[]\n",
    "        for i in self.dict1.values():\n",
    "           a.append(i)\n",
    "        a.sort()\n",
    "        for i,j in self.dict1.items():\n",
    "            if j in a:\n",
    "                print(i,j)\n",
    "    def save(self):\n",
    "        with open(\"event.pkl\",\"wb\") as f:\n",
    "            pickle.dump(self.dict1,f)\n",
    "    def read(self):\n",
    "        try:\n",
    "            with open(\"event.pkl\",\"rb\") as f:\n",
    "                loaded_data=pickle.load(f)\n",
    "            print(\"Data Loaded:\")\n",
    "            print(loaded_data)\n",
    "        except FileNotFoundError:\n",
    "            print(\"FileNotFoundError\")\n",
    "\n",
    "obj=event()\n",
    "print(\"1. Add an event.\\n\",\"2. Remove an event.\\n\",\"3. Display all events in chronological order.\\n\",\"4. Save events to a file using the pickle module.\\n\",\"5. Load events from a file using the pickle module.\\n\",\"6)Exit\")\n",
    "while True: \n",
    "    choice=int(input(\"Enter your choice:\"))\n",
    "    if choice==1:\n",
    "        obj.addevent()\n",
    "        print(\"Saving Your Data\")\n",
    "    elif choice==2:\n",
    "        obj.removeevent()\n",
    "    elif choice==3:\n",
    "        obj.display()\n",
    "    elif choice==4:\n",
    "        obj.save()\n",
    "    elif choice==5:\n",
    "        obj.read()\n",
    "    elif choice==6:\n",
    "        break\n"
   ]
  }
 ],
 "metadata": {
  "kernelspec": {
   "display_name": "Python 3",
   "language": "python",
   "name": "python3"
  },
  "language_info": {
   "codemirror_mode": {
    "name": "ipython",
    "version": 3
   },
   "file_extension": ".py",
   "mimetype": "text/x-python",
   "name": "python",
   "nbconvert_exporter": "python",
   "pygments_lexer": "ipython3",
   "version": "3.12.8"
  }
 },
 "nbformat": 4,
 "nbformat_minor": 2
}
