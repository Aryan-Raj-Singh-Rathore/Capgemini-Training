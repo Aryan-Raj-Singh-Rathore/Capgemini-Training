{
 "cells": [
  {
   "cell_type": "code",
   "execution_count": null,
   "metadata": {},
   "outputs": [
    {
     "name": "stdout",
     "output_type": "stream",
     "text": [
      "90\n"
     ]
    }
   ],
   "source": [
    "#Problem 4\n",
    "def divsum(a,b):\n",
    "    summ=0\n",
    "    for i in range(a,b+1):\n",
    "        if i%3==0 and i%5==0:\n",
    "                summ=summ+i\n",
    "    return summ\n",
    "a=12\n",
    "b=50\n",
    "print(divsum(a,b))"
   ]
  },
  {
   "cell_type": "code",
   "execution_count": 13,
   "metadata": {},
   "outputs": [
    {
     "name": "stdout",
     "output_type": "stream",
     "text": [
      "4\n"
     ]
    }
   ],
   "source": [
    "#Problem 3\n",
    "def primenum(num):\n",
    "    if num>2:\n",
    "        for i in range(2,(num//2)+1):\n",
    "            if (num%i)==0:\n",
    "                return False\n",
    "        return True\n",
    "    else:\n",
    "        return False\n",
    "cnt=0\n",
    "m=10\n",
    "n=20\n",
    "for i in range(m,n+1):\n",
    "    if primenum(i):\n",
    "        cnt+=1\n",
    "print(cnt)\n",
    "\n"
   ]
  },
  {
   "cell_type": "code",
   "execution_count": null,
   "metadata": {},
   "outputs": [
    {
     "name": "stdout",
     "output_type": "stream",
     "text": [
      "6\n"
     ]
    }
   ],
   "source": [
    "#Problem 2\n",
    "def func(a,b,c):\n",
    "    if c==1:\n",
    "        return a+b\n",
    "    elif c==2:\n",
    "        return a-b\n",
    "    elif c==3:\n",
    "        return a*b\n",
    "    elif c==4:\n",
    "        return a/b\n",
    "\n",
    "a=2\n",
    "b=3\n",
    "c=3\n",
    "print(func(a,b,c))"
   ]
  },
  {
   "cell_type": "code",
   "execution_count": null,
   "metadata": {},
   "outputs": [
    {
     "name": "stdout",
     "output_type": "stream",
     "text": [
      "paales\n"
     ]
    }
   ],
   "source": [
    "#Problem 1\n",
    "def modify(str1,ch1,ch2):\n",
    "    str2=\"\"\n",
    "    for i in str1:\n",
    "        if i==ch1:\n",
    "            str2+=ch2\n",
    "        elif i==ch2:\n",
    "            str2+=ch1\n",
    "        else:\n",
    "            str2+=i\n",
    "    return str2\n",
    "\n",
    "    \n",
    "str1=\"apples\"\n",
    "ch1=\"a\"\n",
    "ch2=\"p\"\n",
    "print(modify(str1,ch1,ch2))"
   ]
  },
  {
   "cell_type": "code",
   "execution_count": 5,
   "metadata": {},
   "outputs": [
    {
     "name": "stdout",
     "output_type": "stream",
     "text": [
      "[10, 98, 12, 22, 3, 33, 21, 11]\n"
     ]
    }
   ],
   "source": [
    "#Assesment2\n",
    "#Problem1\n",
    "def eveodd(l):\n",
    "    even=[]\n",
    "    odd=[]\n",
    "    for i in l:\n",
    "        if i%2==0:\n",
    "            even.append(i)\n",
    "        else:\n",
    "            odd.append(i)\n",
    "    l=even+odd\n",
    "    return l\n",
    "n=int(input(\"Enter the number of elements:\"))\n",
    "l=[]\n",
    "for i in range(n):\n",
    "    num=int(input(\"Enter the number:\"))\n",
    "    l.append(num)\n",
    "print(eveodd(l))"
   ]
  },
  {
   "cell_type": "code",
   "execution_count": null,
   "metadata": {},
   "outputs": [
    {
     "name": "stdout",
     "output_type": "stream",
     "text": [
      "2\n"
     ]
    }
   ],
   "source": [
    "def longest(str1):\n",
    "    if len(str1)<3:\n",
    "        return 0\n",
    "    else:\n",
    "        count=1\n",
    "        maxcount=0\n",
    "        for i in range(1 ,len(str1)-1):\n",
    "            if str1[i]==str1[i-1]:\n",
    "                count+=1\n",
    "            else:\n",
    "                maxcount=max(maxcount,count)\n",
    "                count=1\n",
    "        maxcount=max(maxcount,count)        \n",
    "        return maxcount\n",
    "str1=input(\"Enter the string:\")\n",
    "print(longest(str1))"
   ]
  },
  {
   "cell_type": "code",
   "execution_count": 3,
   "metadata": {},
   "outputs": [
    {
     "name": "stdout",
     "output_type": "stream",
     "text": [
      "0\n"
     ]
    }
   ],
   "source": [
    "def longest(str1):\n",
    "    str1=str1.strip('0').strip('1')\n",
    "    if str1==\"\":\n",
    "        return 0\n",
    "    count=1\n",
    "    maxcount=0\n",
    "    for i in range(1 ,len(str1)):\n",
    "        if str1[i]==str1[i-1]:\n",
    "            count+=1\n",
    "        else:\n",
    "            maxcount=max(maxcount,count)\n",
    "            count=1\n",
    "    maxcount=max(maxcount,count)        \n",
    "    return maxcount\n",
    "str1=input(\"Enter the string:\")\n",
    "print(longest(str1))"
   ]
  },
  {
   "cell_type": "code",
   "execution_count": 2,
   "metadata": {},
   "outputs": [
    {
     "name": "stdout",
     "output_type": "stream",
     "text": [
      "2\n"
     ]
    }
   ],
   "source": [
    "def pair(l):\n",
    "    l1=sorted(l)\n",
    "    total_pair=0\n",
    "    i=0\n",
    "    while i<len(l1)-1:\n",
    "        if l1[i]==l1[i+1]:\n",
    "            total_pair+=1\n",
    "            i+=2\n",
    "        else:\n",
    "            i+=1\n",
    "\n",
    "    return total_pair\n",
    "l=[]\n",
    "n=int(input(\"Enter the number of elements:\"))\n",
    "for i in range(n):\n",
    "    item=int(input(\"Enter the element:\"))\n",
    "    l.append(item)\n",
    "print(pair(l))"
   ]
  }
 ],
 "metadata": {
  "kernelspec": {
   "display_name": "Python 3",
   "language": "python",
   "name": "python3"
  },
  "language_info": {
   "codemirror_mode": {
    "name": "ipython",
    "version": 3
   },
   "file_extension": ".py",
   "mimetype": "text/x-python",
   "name": "python",
   "nbconvert_exporter": "python",
   "pygments_lexer": "ipython3",
   "version": "3.12.8"
  }
 },
 "nbformat": 4,
 "nbformat_minor": 2
}
