{
 "cells": [
  {
   "cell_type": "code",
   "execution_count": 1,
   "metadata": {},
   "outputs": [],
   "source": [
    "import unittest"
   ]
  },
  {
   "cell_type": "code",
   "execution_count": 4,
   "metadata": {},
   "outputs": [
    {
     "name": "stderr",
     "output_type": "stream",
     "text": [
      "F\n",
      "======================================================================\n",
      "FAIL: test_add (__main__.TestMathOperation.test_add)\n",
      "----------------------------------------------------------------------\n",
      "Traceback (most recent call last):\n",
      "  File \"C:\\Users\\manra\\AppData\\Local\\Temp\\ipykernel_14140\\702766349.py\", line 8, in test_add\n",
      "    self.assertEqual(add(0,0),4)\n",
      "AssertionError: 0 != 4\n",
      "\n",
      "----------------------------------------------------------------------\n",
      "Ran 1 test in 0.003s\n",
      "\n",
      "FAILED (failures=1)\n"
     ]
    },
    {
     "name": "stdout",
     "output_type": "stream",
     "text": [
      "Thank You\n"
     ]
    }
   ],
   "source": [
    "def add(a,b):\n",
    "    return a+b\n",
    "\n",
    "class TestMathOperation(unittest.TestCase):\n",
    "    def test_add(self):\n",
    "        self.assertEqual(add(2,3),5)\n",
    "        self.assertEqual(add(-1,1),0)\n",
    "        self.assertEqual(add(0,0),4)\n",
    "\n",
    "#testcases\n",
    "unittest.main(argv=[''],exit=False)\n",
    "print(\"Thank You\")"
   ]
  },
  {
   "cell_type": "code",
   "execution_count": null,
   "metadata": {},
   "outputs": [
    {
     "name": "stderr",
     "output_type": "stream",
     "text": [
      ".\n",
      "----------------------------------------------------------------------\n",
      "Ran 1 test in 0.002s\n",
      "\n",
      "OK\n"
     ]
    },
    {
     "name": "stdout",
     "output_type": "stream",
     "text": [
      "Thank You\n"
     ]
    }
   ],
   "source": [
    "def add(a,b):\n",
    "    return a+b\n",
    "\n",
    "class TestMathOperation(unittest.TestCase):\n",
    "    def test_add(self):\n",
    "        self.assertEqual(add(2,3),5)\n",
    "        self.assertEqual(add(-1,1),0)\n",
    "        #self.assertEqual(add(0,0),4)\n",
    "\n",
    "#testcases\n",
    "unittest.main(argv=[''],exit=False)\n",
    "print(\"Thank You\")"
   ]
  },
  {
   "cell_type": "markdown",
   "metadata": {},
   "source": [
    "#INTEGRATION TESTING\n"
   ]
  },
  {
   "cell_type": "code",
   "execution_count": 5,
   "metadata": {},
   "outputs": [],
   "source": [
    "class database:\n",
    "    def __init__(self):\n",
    "        self.users={}\n",
    "    def add_user(self,user_id,name):\n",
    "        if user_id in self.users:\n",
    "            print(\"User Already registered\")        #Debugging Print\n",
    "            raise ValueError(\"User Aleady Exists\")\n",
    "        self.users[user_id]=name\n",
    "        print(\"User Added Successfully\")                #Debugging Print\n",
    "\n",
    "    def get_user(self,user_id):\n",
    "        return self.users[user_id]"
   ]
  },
  {
   "cell_type": "code",
   "execution_count": null,
   "metadata": {},
   "outputs": [],
   "source": [
    "from integrationTesting import database\n",
    "class userservice:\n",
    "    def __init__(self,db):\n",
    "        self.db=db      #dependency Injection\n",
    "    def register_user(self,user_id,name):\n",
    "        self.db.add_user(user_id,name)\n",
    "    def fetch_user(self,user_id):\n",
    "        return self.db.get_user(user_id)"
   ]
  },
  {
   "cell_type": "code",
   "execution_count": 6,
   "metadata": {},
   "outputs": [
    {
     "name": "stderr",
     "output_type": "stream",
     "text": [
      "test_register_and_fetch_user (__main__.TestIntegration.test_register_and_fetch_user) ... ok\n",
      "test_register_duplicate_user (__main__.TestIntegration.test_register_duplicate_user) ... ERROR\n",
      "test_add (__main__.TestMathOperation.test_add) ... FAIL\n",
      "\n",
      "======================================================================\n",
      "ERROR: test_register_duplicate_user (__main__.TestIntegration.test_register_duplicate_user)\n",
      "----------------------------------------------------------------------\n",
      "Traceback (most recent call last):\n",
      "  File \"C:\\Users\\manra\\AppData\\Local\\Temp\\ipykernel_14140\\1355805719.py\", line 14, in test_register_duplicate_user\n",
      "    self.service.register_user(2,\"Bob\")         #Duplicate Id\n",
      "    ^^^^^^^^^^^^^^^^^^^^^^^^^^^^^^^^^^^\n",
      "  File \"c:\\Users\\manra\\OneDrive\\Desktop\\Capgemini\\PYTHON\\integrationTesting_userservice.py\", line 6, in register_user\n",
      "    self.db.add_user(user_id,name)\n",
      "  File \"c:\\Users\\manra\\OneDrive\\Desktop\\Capgemini\\PYTHON\\integrationTesting.py\", line 7, in add_user\n",
      "    raise ValueError(\"User Aleady Exists\")\n",
      "ValueError: User Aleady Exists\n",
      "\n",
      "======================================================================\n",
      "FAIL: test_add (__main__.TestMathOperation.test_add)\n",
      "----------------------------------------------------------------------\n",
      "Traceback (most recent call last):\n",
      "  File \"C:\\Users\\manra\\AppData\\Local\\Temp\\ipykernel_14140\\702766349.py\", line 8, in test_add\n",
      "    self.assertEqual(add(0,0),4)\n",
      "AssertionError: 0 != 4\n",
      "\n",
      "----------------------------------------------------------------------\n",
      "Ran 3 tests in 0.028s\n",
      "\n",
      "FAILED (failures=1, errors=1)\n"
     ]
    },
    {
     "name": "stdout",
     "output_type": "stream",
     "text": [
      "User Added Successfully\n",
      "User Added Successfully\n",
      "User Already registered\n"
     ]
    },
    {
     "data": {
      "text/plain": [
       "<unittest.main.TestProgram at 0x19a52f63a10>"
      ]
     },
     "execution_count": 6,
     "metadata": {},
     "output_type": "execute_result"
    }
   ],
   "source": [
    "import unittest\n",
    "from integrationTesting import database\n",
    "from integrationTesting_userservice import userservice\n",
    "\n",
    "class TestIntegration(unittest.TestCase):\n",
    "    def setUp(self):\n",
    "        self.db=database()\n",
    "        self.service=userservice(self.db)\n",
    "    def test_register_and_fetch_user(self):\n",
    "        self.service.register_user(1,\"Allice\")\n",
    "        self.assertEqual(self.service.fetch_user(1),\"Allice\")\n",
    "    def test_register_duplicate_user(self):\n",
    "        self.service.register_user(2,\"Charlie\")\n",
    "        self.service.register_user(2,\"Bob\")         #Duplicate Id\n",
    "    \n",
    "unittest.main(argv=[''],exit=False,verbosity=2)\n"
   ]
  }
 ],
 "metadata": {
  "kernelspec": {
   "display_name": "Python 3",
   "language": "python",
   "name": "python3"
  },
  "language_info": {
   "codemirror_mode": {
    "name": "ipython",
    "version": 3
   },
   "file_extension": ".py",
   "mimetype": "text/x-python",
   "name": "python",
   "nbconvert_exporter": "python",
   "pygments_lexer": "ipython3",
   "version": "3.12.8"
  }
 },
 "nbformat": 4,
 "nbformat_minor": 2
}
