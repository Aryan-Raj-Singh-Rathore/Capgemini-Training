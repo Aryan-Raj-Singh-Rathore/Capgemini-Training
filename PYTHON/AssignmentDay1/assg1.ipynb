{
 "cells": [
  {
   "cell_type": "code",
   "execution_count": 1,
   "metadata": {},
   "outputs": [
    {
     "name": "stdout",
     "output_type": "stream",
     "text": [
      "22\n"
     ]
    }
   ],
   "source": [
    "#1\n",
    "a=10\n",
    "b=12\n",
    "sum=a+b\n",
    "print(sum)"
   ]
  },
  {
   "cell_type": "code",
   "execution_count": 6,
   "metadata": {},
   "outputs": [
    {
     "name": "stdout",
     "output_type": "stream",
     "text": [
      "120\n"
     ]
    }
   ],
   "source": [
    "#2\n",
    "num=int(input(\"Enter the number:\"))\n",
    "fact=1\n",
    "for i in range(1,num+1):\n",
    "    fact*=i\n",
    "    \n",
    "print(fact)"
   ]
  },
  {
   "cell_type": "code",
   "execution_count": 8,
   "metadata": {},
   "outputs": [
    {
     "name": "stdout",
     "output_type": "stream",
     "text": [
      "Simple Intrest: 1700.0\n"
     ]
    }
   ],
   "source": [
    "#3\n",
    "p=int(input(\"Enter the principal amount:\"))\n",
    "r=float(input(\"Enter the rate of intrest:\"))\n",
    "t=int(input(\"Time period:\"))\n",
    "si=(p*r*t)/100\n",
    "print(\"Simple Intrest:\",si)"
   ]
  },
  {
   "cell_type": "code",
   "execution_count": 13,
   "metadata": {},
   "outputs": [
    {
     "name": "stdout",
     "output_type": "stream",
     "text": [
      "Compound Interst: 11772.25\n"
     ]
    }
   ],
   "source": [
    "#4\n",
    "p=int(input(\"Enter the principal amount:\"))\n",
    "r=float(input(\"Enter the rate of intrest:\"))\n",
    "t=int(input(\"Time period:\"))\n",
    "ci=p*((1+(r/100))**t)\n",
    "print(\"Compound Interst:\",ci)"
   ]
  },
  {
   "cell_type": "code",
   "execution_count": 14,
   "metadata": {},
   "outputs": [
    {
     "name": "stdout",
     "output_type": "stream",
     "text": [
      "Area of the circle is: 31.400000000000002\n"
     ]
    }
   ],
   "source": [
    "#5\n",
    "r=float(input(\"Enter the radius:\"))\n",
    "area=2*3.14*r\n",
    "print(\"Area of the circle is:\",area)"
   ]
  },
  {
   "cell_type": "code",
   "execution_count": 16,
   "metadata": {},
   "outputs": [
    {
     "name": "stdout",
     "output_type": "stream",
     "text": [
      "285\n"
     ]
    }
   ],
   "source": [
    "#6\n",
    "num=int(input(\"Enter number:\"))\n",
    "sum=0\n",
    "for i in range(num+1):\n",
    "    sum=sum+i**2\n",
    "print(sum)"
   ]
  }
 ],
 "metadata": {
  "kernelspec": {
   "display_name": "Python 3",
   "language": "python",
   "name": "python3"
  },
  "language_info": {
   "codemirror_mode": {
    "name": "ipython",
    "version": 3
   },
   "file_extension": ".py",
   "mimetype": "text/x-python",
   "name": "python",
   "nbconvert_exporter": "python",
   "pygments_lexer": "ipython3",
   "version": "3.12.8"
  }
 },
 "nbformat": 4,
 "nbformat_minor": 2
}
